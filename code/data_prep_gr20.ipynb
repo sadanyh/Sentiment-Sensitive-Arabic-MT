{
 "cells": [
  {
   "cell_type": "code",
   "execution_count": 1,
   "metadata": {},
   "outputs": [],
   "source": [
    "import pandas as pd\n",
    "import numpy as np\n",
    "import csv"
   ]
  },
  {
   "cell_type": "code",
   "execution_count": 2,
   "metadata": {},
   "outputs": [
    {
     "data": {
      "text/plain": [
       "'C:\\\\Users\\\\sadan\\\\OneDrive\\\\surrey\\\\sentiment_proj'"
      ]
     },
     "execution_count": 2,
     "metadata": {},
     "output_type": "execute_result"
    }
   ],
   "source": [
    "pwd"
   ]
  },
  {
   "cell_type": "code",
   "execution_count": 3,
   "metadata": {},
   "outputs": [
    {
     "name": "stdout",
     "output_type": "stream",
     "text": [
      "C:\\Users\\sadan\\OneDrive\\surrey\\sentiment_proj\\datasets\n"
     ]
    }
   ],
   "source": [
    "cd datasets"
   ]
  },
  {
   "cell_type": "code",
   "execution_count": 5,
   "metadata": {},
   "outputs": [
    {
     "name": "stdout",
     "output_type": "stream",
     "text": [
      "C:\\Users\\sadan\\OneDrive\\surrey\\sentiment_proj\\datasets\\gr_20_all\n"
     ]
    }
   ],
   "source": [
    "cd gr_20_all"
   ]
  },
  {
   "cell_type": "code",
   "execution_count": 6,
   "metadata": {},
   "outputs": [
    {
     "name": "stdout",
     "output_type": "stream",
     "text": [
      " Volume in drive C is OS\n",
      " Volume Serial Number is BE49-6290\n",
      "\n",
      " Directory of C:\\Users\\sadan\\OneDrive\\surrey\\sentiment_proj\\datasets\\gr_20_all\n",
      "\n",
      "11-Aug-20  05:53 AM    <DIR>          .\n",
      "11-Aug-20  05:53 AM    <DIR>          ..\n",
      "15-Jul-20  08:27 PM        20,366,066 all_gr_20_ar.xlsx\n",
      "15-Jul-20  09:04 PM         8,013,339 grall_20_1.csv\n",
      "17-Jul-20  06:48 PM         7,517,185 grall_20_2(AutoRecovered).csv\n",
      "16-Jul-20  06:26 PM         8,144,899 grall_20_2.csv\n",
      "16-Jul-20  06:21 PM         8,352,185 grall_20_3.csv\n",
      "16-Jul-20  06:21 PM         8,234,960 grall_20_4.csv\n",
      "16-Jul-20  06:22 PM         8,303,865 grall_20_5.csv\n",
      "15-Jul-20  08:50 PM        37,247,357 grall_20_ar.csv\n",
      "11-Aug-20  05:53 AM        29,742,496 grall_20_eng.xlsx\n",
      "19-Jul-20  07:45 PM    <DIR>          trans\n",
      "               9 File(s)    135,922,352 bytes\n",
      "               3 Dir(s)  271,109,304,320 bytes free\n"
     ]
    }
   ],
   "source": [
    "ls"
   ]
  },
  {
   "cell_type": "code",
   "execution_count": 10,
   "metadata": {},
   "outputs": [],
   "source": [
    "data= pd.read_excel('grall_20_eng.xlsx', encoding='utf8') # take the header off"
   ]
  },
  {
   "cell_type": "code",
   "execution_count": 11,
   "metadata": {},
   "outputs": [
    {
     "data": {
      "text/html": [
       "<div>\n",
       "<style scoped>\n",
       "    .dataframe tbody tr th:only-of-type {\n",
       "        vertical-align: middle;\n",
       "    }\n",
       "\n",
       "    .dataframe tbody tr th {\n",
       "        vertical-align: top;\n",
       "    }\n",
       "\n",
       "    .dataframe thead th {\n",
       "        text-align: right;\n",
       "    }\n",
       "</style>\n",
       "<table border=\"1\" class=\"dataframe\">\n",
       "  <thead>\n",
       "    <tr style=\"text-align: right;\">\n",
       "      <th></th>\n",
       "      <th>عزازيل الذي صنعناه الكامن في انفسنا يذكرني يوسف زيدان ب بورخس في استخدامه لحيلته الفنيهوخداع القاريء بان الروايه ترجمه لمخطوط</th>\n",
       "      <th>Azazel, who made it that resides in ourselves, reminds me of Yusef Zidan B Borges in his use of his artistic trick and deceiving the reader that the novel translated it into a manuscript.</th>\n",
       "      <th>Unnamed: 2</th>\n",
       "      <th>Unnamed: 3</th>\n",
       "      <th>Unnamed: 4</th>\n",
       "      <th>Unnamed: 5</th>\n",
       "    </tr>\n",
       "  </thead>\n",
       "  <tbody>\n",
       "    <tr>\n",
       "      <th>0</th>\n",
       "      <td>قديم الهوامش المخترعه و اختلاق وجود مترجم عاد ...</td>\n",
       "      <td>Old invented margins and the creation of an in...</td>\n",
       "      <td>NaN</td>\n",
       "      <td>NaN</td>\n",
       "      <td>NaN</td>\n",
       "      <td>NaN</td>\n",
       "    </tr>\n",
       "    <tr>\n",
       "      <th>1</th>\n",
       "      <td>زيدان وهو عبقري في السرد ويخلق جوا ساحرا متفرد...</td>\n",
       "      <td>Zidane, who is a genius in the narration and c...</td>\n",
       "      <td>NaN</td>\n",
       "      <td>NaN</td>\n",
       "      <td>NaN</td>\n",
       "      <td>NaN</td>\n",
       "    </tr>\n",
       "    <tr>\n",
       "      <th>2</th>\n",
       "      <td>ربما تم تناول فكره الروايه قبلا ولكن هنا تفردا...</td>\n",
       "      <td>Perhaps the idea of ​​the novel was dealt with...</td>\n",
       "      <td>NaN</td>\n",
       "      <td>NaN</td>\n",
       "      <td>NaN</td>\n",
       "      <td>NaN</td>\n",
       "    </tr>\n",
       "    <tr>\n",
       "      <th>3</th>\n",
       "      <td>بطريقه مختلفه فقد جاءت بارده لا تتناسب مع رواي...</td>\n",
       "      <td>In a different way, it came cold and did not m...</td>\n",
       "      <td>NaN</td>\n",
       "      <td>NaN</td>\n",
       "      <td>NaN</td>\n",
       "      <td>NaN</td>\n",
       "    </tr>\n",
       "    <tr>\n",
       "      <th>4</th>\n",
       "      <td>وان كانت تجربه قرائيه متفرده وممتعه</td>\n",
       "      <td>And if it was a unique and enjoyable reading e...</td>\n",
       "      <td>NaN</td>\n",
       "      <td>NaN</td>\n",
       "      <td>NaN</td>\n",
       "      <td>NaN</td>\n",
       "    </tr>\n",
       "  </tbody>\n",
       "</table>\n",
       "</div>"
      ],
      "text/plain": [
       "  عزازيل الذي صنعناه الكامن في انفسنا يذكرني يوسف زيدان ب بورخس في استخدامه لحيلته الفنيهوخداع القاريء بان الروايه ترجمه لمخطوط  \\\n",
       "0  قديم الهوامش المخترعه و اختلاق وجود مترجم عاد ...                                                                              \n",
       "1  زيدان وهو عبقري في السرد ويخلق جوا ساحرا متفرد...                                                                              \n",
       "2  ربما تم تناول فكره الروايه قبلا ولكن هنا تفردا...                                                                              \n",
       "3  بطريقه مختلفه فقد جاءت بارده لا تتناسب مع رواي...                                                                              \n",
       "4                وان كانت تجربه قرائيه متفرده وممتعه                                                                              \n",
       "\n",
       "  Azazel, who made it that resides in ourselves, reminds me of Yusef Zidan B Borges in his use of his artistic trick and deceiving the reader that the novel translated it into a manuscript.  \\\n",
       "0  Old invented margins and the creation of an in...                                                                                                                                            \n",
       "1  Zidane, who is a genius in the narration and c...                                                                                                                                            \n",
       "2  Perhaps the idea of ​​the novel was dealt with...                                                                                                                                            \n",
       "3  In a different way, it came cold and did not m...                                                                                                                                            \n",
       "4  And if it was a unique and enjoyable reading e...                                                                                                                                            \n",
       "\n",
       "   Unnamed: 2  Unnamed: 3  Unnamed: 4 Unnamed: 5  \n",
       "0         NaN         NaN         NaN        NaN  \n",
       "1         NaN         NaN         NaN        NaN  \n",
       "2         NaN         NaN         NaN        NaN  \n",
       "3         NaN         NaN         NaN        NaN  \n",
       "4         NaN         NaN         NaN        NaN  "
      ]
     },
     "execution_count": 11,
     "metadata": {},
     "output_type": "execute_result"
    }
   ],
   "source": [
    "data.head()"
   ]
  },
  {
   "cell_type": "code",
   "execution_count": 18,
   "metadata": {},
   "outputs": [],
   "source": [
    "df = data.iloc[:,[0,1]]"
   ]
  },
  {
   "cell_type": "code",
   "execution_count": 19,
   "metadata": {},
   "outputs": [
    {
     "data": {
      "text/html": [
       "<div>\n",
       "<style scoped>\n",
       "    .dataframe tbody tr th:only-of-type {\n",
       "        vertical-align: middle;\n",
       "    }\n",
       "\n",
       "    .dataframe tbody tr th {\n",
       "        vertical-align: top;\n",
       "    }\n",
       "\n",
       "    .dataframe thead th {\n",
       "        text-align: right;\n",
       "    }\n",
       "</style>\n",
       "<table border=\"1\" class=\"dataframe\">\n",
       "  <thead>\n",
       "    <tr style=\"text-align: right;\">\n",
       "      <th></th>\n",
       "      <th>عزازيل الذي صنعناه الكامن في انفسنا يذكرني يوسف زيدان ب بورخس في استخدامه لحيلته الفنيهوخداع القاريء بان الروايه ترجمه لمخطوط</th>\n",
       "      <th>Azazel, who made it that resides in ourselves, reminds me of Yusef Zidan B Borges in his use of his artistic trick and deceiving the reader that the novel translated it into a manuscript.</th>\n",
       "    </tr>\n",
       "  </thead>\n",
       "  <tbody>\n",
       "    <tr>\n",
       "      <th>0</th>\n",
       "      <td>قديم الهوامش المخترعه و اختلاق وجود مترجم عاد ...</td>\n",
       "      <td>Old invented margins and the creation of an in...</td>\n",
       "    </tr>\n",
       "    <tr>\n",
       "      <th>1</th>\n",
       "      <td>زيدان وهو عبقري في السرد ويخلق جوا ساحرا متفرد...</td>\n",
       "      <td>Zidane, who is a genius in the narration and c...</td>\n",
       "    </tr>\n",
       "    <tr>\n",
       "      <th>2</th>\n",
       "      <td>ربما تم تناول فكره الروايه قبلا ولكن هنا تفردا...</td>\n",
       "      <td>Perhaps the idea of ​​the novel was dealt with...</td>\n",
       "    </tr>\n",
       "    <tr>\n",
       "      <th>3</th>\n",
       "      <td>بطريقه مختلفه فقد جاءت بارده لا تتناسب مع رواي...</td>\n",
       "      <td>In a different way, it came cold and did not m...</td>\n",
       "    </tr>\n",
       "    <tr>\n",
       "      <th>4</th>\n",
       "      <td>وان كانت تجربه قرائيه متفرده وممتعه</td>\n",
       "      <td>And if it was a unique and enjoyable reading e...</td>\n",
       "    </tr>\n",
       "  </tbody>\n",
       "</table>\n",
       "</div>"
      ],
      "text/plain": [
       "  عزازيل الذي صنعناه الكامن في انفسنا يذكرني يوسف زيدان ب بورخس في استخدامه لحيلته الفنيهوخداع القاريء بان الروايه ترجمه لمخطوط  \\\n",
       "0  قديم الهوامش المخترعه و اختلاق وجود مترجم عاد ...                                                                              \n",
       "1  زيدان وهو عبقري في السرد ويخلق جوا ساحرا متفرد...                                                                              \n",
       "2  ربما تم تناول فكره الروايه قبلا ولكن هنا تفردا...                                                                              \n",
       "3  بطريقه مختلفه فقد جاءت بارده لا تتناسب مع رواي...                                                                              \n",
       "4                وان كانت تجربه قرائيه متفرده وممتعه                                                                              \n",
       "\n",
       "  Azazel, who made it that resides in ourselves, reminds me of Yusef Zidan B Borges in his use of his artistic trick and deceiving the reader that the novel translated it into a manuscript.  \n",
       "0  Old invented margins and the creation of an in...                                                                                                                                           \n",
       "1  Zidane, who is a genius in the narration and c...                                                                                                                                           \n",
       "2  Perhaps the idea of ​​the novel was dealt with...                                                                                                                                           \n",
       "3  In a different way, it came cold and did not m...                                                                                                                                           \n",
       "4  And if it was a unique and enjoyable reading e...                                                                                                                                           "
      ]
     },
     "execution_count": 19,
     "metadata": {},
     "output_type": "execute_result"
    }
   ],
   "source": [
    "df.head()"
   ]
  },
  {
   "cell_type": "code",
   "execution_count": 20,
   "metadata": {},
   "outputs": [],
   "source": [
    "df = df.dropna()"
   ]
  },
  {
   "cell_type": "code",
   "execution_count": 21,
   "metadata": {},
   "outputs": [
    {
     "data": {
      "text/plain": [
       "(227371, 2)"
      ]
     },
     "execution_count": 21,
     "metadata": {},
     "output_type": "execute_result"
    }
   ],
   "source": [
    "df.shape"
   ]
  },
  {
   "cell_type": "code",
   "execution_count": 22,
   "metadata": {},
   "outputs": [
    {
     "data": {
      "text/plain": [
       "0    قديم الهوامش المخترعه و اختلاق وجود مترجم عاد ...\n",
       "1    زيدان وهو عبقري في السرد ويخلق جوا ساحرا متفرد...\n",
       "2    ربما تم تناول فكره الروايه قبلا ولكن هنا تفردا...\n",
       "3    بطريقه مختلفه فقد جاءت بارده لا تتناسب مع رواي...\n",
       "4                  وان كانت تجربه قرائيه متفرده وممتعه\n",
       "Name: عزازيل الذي صنعناه الكامن في انفسنا يذكرني يوسف زيدان ب بورخس في استخدامه لحيلته الفنيهوخداع القاريء بان الروايه ترجمه لمخطوط, dtype: object"
      ]
     },
     "execution_count": 22,
     "metadata": {},
     "output_type": "execute_result"
    }
   ],
   "source": [
    "source_dataset = df.iloc[:,0]    # get the data of first column\n",
    "\n",
    "source_dataset.head()"
   ]
  },
  {
   "cell_type": "code",
   "execution_count": 23,
   "metadata": {},
   "outputs": [
    {
     "data": {
      "text/plain": [
       "0    Old invented margins and the creation of an in...\n",
       "1    Zidane, who is a genius in the narration and c...\n",
       "2    Perhaps the idea of ​​the novel was dealt with...\n",
       "3    In a different way, it came cold and did not m...\n",
       "4    And if it was a unique and enjoyable reading e...\n",
       "Name: Azazel, who made it that resides in ourselves, reminds me of Yusef Zidan B Borges in his use of his artistic trick and deceiving the reader that the novel translated it into a manuscript., dtype: object"
      ]
     },
     "execution_count": 23,
     "metadata": {},
     "output_type": "execute_result"
    }
   ],
   "source": [
    "target_dataset = df.iloc[:,1]\n",
    "\n",
    "target_dataset.head()"
   ]
  },
  {
   "cell_type": "code",
   "execution_count": 24,
   "metadata": {},
   "outputs": [],
   "source": [
    "from sklearn.model_selection import train_test_split\n",
    "\n",
    "# split complete dataset in train-test with ratio 80-20 respectively\n",
    "\n",
    "X_train, X_test, y_train, y_test = train_test_split(source_dataset, target_dataset, test_size=0.2, random_state=1)\n",
    "\n",
    "\n",
    "# again split train data in train-validation with 90-10 ratio respectively\n",
    "\n",
    "X_train, X_val, y_train, y_val = train_test_split(X_train, y_train, test_size=0.1, random_state=1)"
   ]
  },
  {
   "cell_type": "code",
   "execution_count": 25,
   "metadata": {},
   "outputs": [
    {
     "name": "stdout",
     "output_type": "stream",
     "text": [
      "Shape of input_train data: (163706,)\n",
      "===================================\n",
      "\n",
      "Shape of target_train data :  (163706,)\n",
      "===================================\n",
      "\n",
      "Shape of input_validation data :  (18190,)\n",
      "===================================\n",
      "\n",
      "Shape of target_validation data :  (18190,)\n",
      "===================================\n",
      "\n",
      "Shape of input_test data :  (45475,)\n",
      "===================================\n",
      "\n",
      "Shape of target_test data :  (45475,)\n",
      "===================================\n",
      "\n"
     ]
    }
   ],
   "source": [
    "print (\"Shape of input_train data:\", np.shape(X_train))\n",
    "\n",
    "print('===================================\\n')\n",
    "\n",
    "print (\"Shape of target_train data : \" , np.shape(y_train))\n",
    "\n",
    "print('===================================\\n')\n",
    "\n",
    "print (\"Shape of input_validation data : \" , np.shape(X_val))\n",
    "\n",
    "print('===================================\\n')\n",
    "\n",
    "print (\"Shape of target_validation data : \" , np.shape(y_val))\n",
    "\n",
    "print('===================================\\n')\n",
    "\n",
    "print (\"Shape of input_test data : \" , np.shape(X_test))\n",
    "\n",
    "print('===================================\\n')\n",
    "\n",
    "print (\"Shape of target_test data : \" , np.shape(y_test))\n",
    "\n",
    "print('===================================\\n')"
   ]
  },
  {
   "cell_type": "code",
   "execution_count": 33,
   "metadata": {},
   "outputs": [
    {
     "name": "stdout",
     "output_type": "stream",
     "text": [
      "C:\\Users\\sadan\\OneDrive\\surrey\\sentiment_proj\\open_nmt\n"
     ]
    }
   ],
   "source": [
    "cd sentiment_proj\\open_nmt"
   ]
  },
  {
   "cell_type": "code",
   "execution_count": 34,
   "metadata": {},
   "outputs": [],
   "source": [
    "mkdir gr_20"
   ]
  },
  {
   "cell_type": "code",
   "execution_count": 35,
   "metadata": {},
   "outputs": [
    {
     "name": "stdout",
     "output_type": "stream",
     "text": [
      "C:\\Users\\sadan\\OneDrive\\surrey\\sentiment_proj\\open_nmt\\gr_20\n"
     ]
    }
   ],
   "source": [
    "cd gr_20"
   ]
  },
  {
   "cell_type": "code",
   "execution_count": 36,
   "metadata": {},
   "outputs": [],
   "source": [
    "# export train, validation and test dataframes as text files\n",
    "\n",
    "export_csv = X_train.to_csv (r'src-gr20-train.txt' , index = None, header = False)\n",
    "\n",
    "export_csv = y_train.to_csv (r'tgt-gr20-train.txt' , index = None, header = False)\n",
    "\n",
    "export_csv = X_val.to_csv (r'src-gr20-val.txt' , index = None, header = False)\n",
    "\n",
    "export_csv = y_val.to_csv (r'tgt-gr20-val.txt' , index = None, header = False)\n",
    "\n",
    "export_csv = X_test.to_csv (r'src-gr20-test.txt' , index = None, header = False)\n",
    "\n",
    "export_csv = y_test.to_csv (r'tgt-gr20-test.txt' , index = None, header = False)"
   ]
  },
  {
   "cell_type": "code",
   "execution_count": 3,
   "metadata": {},
   "outputs": [],
   "source": [
    "# connecting files for translation \n",
    "import os\n",
    "DATA_HOME = os.chdir('C:\\\\Users\\\\sadan\\\\OneDrive\\\\surrey\\\\sentiment_proj\\\\datasets\\\\manual_trans') #change the directory of the notebook\n",
    "#os.getcwd() check the current directory"
   ]
  },
  {
   "cell_type": "code",
   "execution_count": 92,
   "metadata": {},
   "outputs": [],
   "source": [
    "ted = pd.read_csv('ted2013/outputcl.tsv',encoding = 'utf-8', delimiter = '\\t',names=['eng','ar'])"
   ]
  },
  {
   "cell_type": "code",
   "execution_count": 93,
   "metadata": {},
   "outputs": [
    {
     "data": {
      "text/html": [
       "<div>\n",
       "<style scoped>\n",
       "    .dataframe tbody tr th:only-of-type {\n",
       "        vertical-align: middle;\n",
       "    }\n",
       "\n",
       "    .dataframe tbody tr th {\n",
       "        vertical-align: top;\n",
       "    }\n",
       "\n",
       "    .dataframe thead th {\n",
       "        text-align: right;\n",
       "    }\n",
       "</style>\n",
       "<table border=\"1\" class=\"dataframe\">\n",
       "  <thead>\n",
       "    <tr style=\"text-align: right;\">\n",
       "      <th></th>\n",
       "      <th>eng</th>\n",
       "      <th>ar</th>\n",
       "    </tr>\n",
       "  </thead>\n",
       "  <tbody>\n",
       "    <tr>\n",
       "      <td>0</td>\n",
       "      <td>Stephen Palumbi: Following the mercury trail</td>\n",
       "      <td>ستيفن بلمبي: اتباع مسار الزئبق</td>\n",
       "    </tr>\n",
       "    <tr>\n",
       "      <td>1</td>\n",
       "      <td>It can be a very complicated thing, the ocean.</td>\n",
       "      <td>يمكن أن يكون المحيط أمرا في غاية التعقيد</td>\n",
       "    </tr>\n",
       "    <tr>\n",
       "      <td>2</td>\n",
       "      <td>And it can be a very complicated thing, what h...</td>\n",
       "      <td>و يمكن أن تكون ماهية صحة الإنسان أمرا في غاية ...</td>\n",
       "    </tr>\n",
       "    <tr>\n",
       "      <td>3</td>\n",
       "      <td>And bringing those two together might seem a v...</td>\n",
       "      <td>و لذلك قد يبدو آن الجمع بين هذين الأمرين سويا ...</td>\n",
       "    </tr>\n",
       "    <tr>\n",
       "      <td>4</td>\n",
       "      <td>And those simple themes aren't really themes a...</td>\n",
       "      <td>و هذه الأفكار الرئيسة المبسطة ليست فعلا أفكارا...</td>\n",
       "    </tr>\n",
       "  </tbody>\n",
       "</table>\n",
       "</div>"
      ],
      "text/plain": [
       "                                                 eng  \\\n",
       "0       Stephen Palumbi: Following the mercury trail   \n",
       "1     It can be a very complicated thing, the ocean.   \n",
       "2  And it can be a very complicated thing, what h...   \n",
       "3  And bringing those two together might seem a v...   \n",
       "4  And those simple themes aren't really themes a...   \n",
       "\n",
       "                                                  ar  \n",
       "0                     ستيفن بلمبي: اتباع مسار الزئبق  \n",
       "1           يمكن أن يكون المحيط أمرا في غاية التعقيد  \n",
       "2  و يمكن أن تكون ماهية صحة الإنسان أمرا في غاية ...  \n",
       "3  و لذلك قد يبدو آن الجمع بين هذين الأمرين سويا ...  \n",
       "4  و هذه الأفكار الرئيسة المبسطة ليست فعلا أفكارا...  "
      ]
     },
     "execution_count": 93,
     "metadata": {},
     "output_type": "execute_result"
    }
   ],
   "source": [
    "ted.head()"
   ]
  },
  {
   "cell_type": "code",
   "execution_count": 94,
   "metadata": {},
   "outputs": [
    {
     "data": {
      "text/plain": [
       "(149691, 2)"
      ]
     },
     "execution_count": 94,
     "metadata": {},
     "output_type": "execute_result"
    }
   ],
   "source": [
    "ted.shape"
   ]
  },
  {
   "cell_type": "code",
   "execution_count": 95,
   "metadata": {},
   "outputs": [],
   "source": [
    "tatoba= pd.read_csv('ara-eng/ara_eng.csv', encoding='utf8',skiprows=[0],names=['eng','ar']) # take the header off"
   ]
  },
  {
   "cell_type": "code",
   "execution_count": 96,
   "metadata": {},
   "outputs": [
    {
     "data": {
      "text/html": [
       "<div>\n",
       "<style scoped>\n",
       "    .dataframe tbody tr th:only-of-type {\n",
       "        vertical-align: middle;\n",
       "    }\n",
       "\n",
       "    .dataframe tbody tr th {\n",
       "        vertical-align: top;\n",
       "    }\n",
       "\n",
       "    .dataframe thead th {\n",
       "        text-align: right;\n",
       "    }\n",
       "</style>\n",
       "<table border=\"1\" class=\"dataframe\">\n",
       "  <thead>\n",
       "    <tr style=\"text-align: right;\">\n",
       "      <th></th>\n",
       "      <th>eng</th>\n",
       "      <th>ar</th>\n",
       "    </tr>\n",
       "  </thead>\n",
       "  <tbody>\n",
       "    <tr>\n",
       "      <td>0</td>\n",
       "      <td>Hi.</td>\n",
       "      <td>مرحبًا.</td>\n",
       "    </tr>\n",
       "    <tr>\n",
       "      <td>1</td>\n",
       "      <td>Run!</td>\n",
       "      <td>اركض!</td>\n",
       "    </tr>\n",
       "    <tr>\n",
       "      <td>2</td>\n",
       "      <td>Help!</td>\n",
       "      <td>النجدة!</td>\n",
       "    </tr>\n",
       "    <tr>\n",
       "      <td>3</td>\n",
       "      <td>Jump!</td>\n",
       "      <td>اقفز!</td>\n",
       "    </tr>\n",
       "    <tr>\n",
       "      <td>4</td>\n",
       "      <td>Stop!</td>\n",
       "      <td>قف!</td>\n",
       "    </tr>\n",
       "  </tbody>\n",
       "</table>\n",
       "</div>"
      ],
      "text/plain": [
       "     eng       ar\n",
       "0    Hi.  مرحبًا.\n",
       "1   Run!    اركض!\n",
       "2  Help!  النجدة!\n",
       "3  Jump!    اقفز!\n",
       "4  Stop!      قف!"
      ]
     },
     "execution_count": 96,
     "metadata": {},
     "output_type": "execute_result"
    }
   ],
   "source": [
    "tatoba.head()"
   ]
  },
  {
   "cell_type": "code",
   "execution_count": 83,
   "metadata": {},
   "outputs": [
    {
     "data": {
      "text/plain": [
       "(11319, 2)"
      ]
     },
     "execution_count": 83,
     "metadata": {},
     "output_type": "execute_result"
    }
   ],
   "source": [
    "tatoba.shape"
   ]
  },
  {
   "cell_type": "code",
   "execution_count": 99,
   "metadata": {},
   "outputs": [],
   "source": [
    "gr = pd.read_csv('C:/Users/sadan/OneDrive/surrey/sentiment_proj/datasets/good_reads_150.csv', encoding='utf8')"
   ]
  },
  {
   "cell_type": "code",
   "execution_count": 100,
   "metadata": {},
   "outputs": [
    {
     "data": {
      "text/html": [
       "<div>\n",
       "<style scoped>\n",
       "    .dataframe tbody tr th:only-of-type {\n",
       "        vertical-align: middle;\n",
       "    }\n",
       "\n",
       "    .dataframe tbody tr th {\n",
       "        vertical-align: top;\n",
       "    }\n",
       "\n",
       "    .dataframe thead th {\n",
       "        text-align: right;\n",
       "    }\n",
       "</style>\n",
       "<table border=\"1\" class=\"dataframe\">\n",
       "  <thead>\n",
       "    <tr style=\"text-align: right;\">\n",
       "      <th></th>\n",
       "      <th>rating</th>\n",
       "      <th>ar</th>\n",
       "      <th>tr</th>\n",
       "      <th>text_length</th>\n",
       "    </tr>\n",
       "  </thead>\n",
       "  <tbody>\n",
       "    <tr>\n",
       "      <td>0</td>\n",
       "      <td>4.0</td>\n",
       "      <td>من أمتع ما قرأت من روايات بلا شك. وحول الشك ت...</td>\n",
       "      <td>Undoubtedly one of the most interesting novels...</td>\n",
       "      <td>86</td>\n",
       "    </tr>\n",
       "    <tr>\n",
       "      <td>1</td>\n",
       "      <td>4.0</td>\n",
       "      <td>هذا هو الأدب . هذه هي الرواية !</td>\n",
       "      <td>This is literature. This is the novel!</td>\n",
       "      <td>32</td>\n",
       "    </tr>\n",
       "    <tr>\n",
       "      <td>2</td>\n",
       "      <td>5.0</td>\n",
       "      <td>عزازيل لكل منا عزازيل يحاوره يساوره هو شماعة ...</td>\n",
       "      <td>Azazel for all of us</td>\n",
       "      <td>112</td>\n",
       "    </tr>\n",
       "    <tr>\n",
       "      <td>3</td>\n",
       "      <td>2.0</td>\n",
       "      <td>انا كان عندى شغف قوى جدا لاقرأه وبعد ان تعمقت...</td>\n",
       "      <td>I had a very strong passion to read and after ...</td>\n",
       "      <td>145</td>\n",
       "    </tr>\n",
       "    <tr>\n",
       "      <td>4</td>\n",
       "      <td>4.0</td>\n",
       "      <td>- هذا الكتاب هو منجز روائي هائل بالمعلومات و ...</td>\n",
       "      <td>#NAME?</td>\n",
       "      <td>106</td>\n",
       "    </tr>\n",
       "  </tbody>\n",
       "</table>\n",
       "</div>"
      ],
      "text/plain": [
       "   rating                                                 ar  \\\n",
       "0     4.0   من أمتع ما قرأت من روايات بلا شك. وحول الشك ت...   \n",
       "1     4.0                    هذا هو الأدب . هذه هي الرواية !   \n",
       "2     5.0   عزازيل لكل منا عزازيل يحاوره يساوره هو شماعة ...   \n",
       "3     2.0   انا كان عندى شغف قوى جدا لاقرأه وبعد ان تعمقت...   \n",
       "4     4.0   - هذا الكتاب هو منجز روائي هائل بالمعلومات و ...   \n",
       "\n",
       "                                                  tr  text_length  \n",
       "0  Undoubtedly one of the most interesting novels...           86  \n",
       "1             This is literature. This is the novel!           32  \n",
       "2                               Azazel for all of us          112  \n",
       "3  I had a very strong passion to read and after ...          145  \n",
       "4                                             #NAME?          106  "
      ]
     },
     "execution_count": 100,
     "metadata": {},
     "output_type": "execute_result"
    }
   ],
   "source": [
    "gr.head()"
   ]
  },
  {
   "cell_type": "code",
   "execution_count": 101,
   "metadata": {},
   "outputs": [],
   "source": [
    "gr = gr.drop(gr.columns[[0, 3]], axis=1)"
   ]
  },
  {
   "cell_type": "code",
   "execution_count": 102,
   "metadata": {},
   "outputs": [
    {
     "data": {
      "text/html": [
       "<div>\n",
       "<style scoped>\n",
       "    .dataframe tbody tr th:only-of-type {\n",
       "        vertical-align: middle;\n",
       "    }\n",
       "\n",
       "    .dataframe tbody tr th {\n",
       "        vertical-align: top;\n",
       "    }\n",
       "\n",
       "    .dataframe thead th {\n",
       "        text-align: right;\n",
       "    }\n",
       "</style>\n",
       "<table border=\"1\" class=\"dataframe\">\n",
       "  <thead>\n",
       "    <tr style=\"text-align: right;\">\n",
       "      <th></th>\n",
       "      <th>ar</th>\n",
       "      <th>tr</th>\n",
       "    </tr>\n",
       "  </thead>\n",
       "  <tbody>\n",
       "    <tr>\n",
       "      <td>0</td>\n",
       "      <td>من أمتع ما قرأت من روايات بلا شك. وحول الشك ت...</td>\n",
       "      <td>Undoubtedly one of the most interesting novels...</td>\n",
       "    </tr>\n",
       "    <tr>\n",
       "      <td>1</td>\n",
       "      <td>هذا هو الأدب . هذه هي الرواية !</td>\n",
       "      <td>This is literature. This is the novel!</td>\n",
       "    </tr>\n",
       "    <tr>\n",
       "      <td>2</td>\n",
       "      <td>عزازيل لكل منا عزازيل يحاوره يساوره هو شماعة ...</td>\n",
       "      <td>Azazel for all of us</td>\n",
       "    </tr>\n",
       "    <tr>\n",
       "      <td>3</td>\n",
       "      <td>انا كان عندى شغف قوى جدا لاقرأه وبعد ان تعمقت...</td>\n",
       "      <td>I had a very strong passion to read and after ...</td>\n",
       "    </tr>\n",
       "    <tr>\n",
       "      <td>4</td>\n",
       "      <td>- هذا الكتاب هو منجز روائي هائل بالمعلومات و ...</td>\n",
       "      <td>#NAME?</td>\n",
       "    </tr>\n",
       "  </tbody>\n",
       "</table>\n",
       "</div>"
      ],
      "text/plain": [
       "                                                  ar  \\\n",
       "0   من أمتع ما قرأت من روايات بلا شك. وحول الشك ت...   \n",
       "1                    هذا هو الأدب . هذه هي الرواية !   \n",
       "2   عزازيل لكل منا عزازيل يحاوره يساوره هو شماعة ...   \n",
       "3   انا كان عندى شغف قوى جدا لاقرأه وبعد ان تعمقت...   \n",
       "4   - هذا الكتاب هو منجز روائي هائل بالمعلومات و ...   \n",
       "\n",
       "                                                  tr  \n",
       "0  Undoubtedly one of the most interesting novels...  \n",
       "1             This is literature. This is the novel!  \n",
       "2                               Azazel for all of us  \n",
       "3  I had a very strong passion to read and after ...  \n",
       "4                                             #NAME?  "
      ]
     },
     "execution_count": 102,
     "metadata": {},
     "output_type": "execute_result"
    }
   ],
   "source": [
    "gr.head()"
   ]
  },
  {
   "cell_type": "code",
   "execution_count": 103,
   "metadata": {},
   "outputs": [],
   "source": [
    "gr=gr.reindex(columns=['tr','ar'])"
   ]
  },
  {
   "cell_type": "code",
   "execution_count": 110,
   "metadata": {},
   "outputs": [
    {
     "data": {
      "text/html": [
       "<div>\n",
       "<style scoped>\n",
       "    .dataframe tbody tr th:only-of-type {\n",
       "        vertical-align: middle;\n",
       "    }\n",
       "\n",
       "    .dataframe tbody tr th {\n",
       "        vertical-align: top;\n",
       "    }\n",
       "\n",
       "    .dataframe thead th {\n",
       "        text-align: right;\n",
       "    }\n",
       "</style>\n",
       "<table border=\"1\" class=\"dataframe\">\n",
       "  <thead>\n",
       "    <tr style=\"text-align: right;\">\n",
       "      <th></th>\n",
       "      <th>eng</th>\n",
       "      <th>ar</th>\n",
       "    </tr>\n",
       "  </thead>\n",
       "  <tbody>\n",
       "    <tr>\n",
       "      <td>0</td>\n",
       "      <td>Undoubtedly one of the most interesting novels...</td>\n",
       "      <td>من أمتع ما قرأت من روايات بلا شك. وحول الشك ت...</td>\n",
       "    </tr>\n",
       "    <tr>\n",
       "      <td>1</td>\n",
       "      <td>This is literature. This is the novel!</td>\n",
       "      <td>هذا هو الأدب . هذه هي الرواية !</td>\n",
       "    </tr>\n",
       "    <tr>\n",
       "      <td>2</td>\n",
       "      <td>Azazel for all of us</td>\n",
       "      <td>عزازيل لكل منا عزازيل يحاوره يساوره هو شماعة ...</td>\n",
       "    </tr>\n",
       "    <tr>\n",
       "      <td>3</td>\n",
       "      <td>I had a very strong passion to read and after ...</td>\n",
       "      <td>انا كان عندى شغف قوى جدا لاقرأه وبعد ان تعمقت...</td>\n",
       "    </tr>\n",
       "    <tr>\n",
       "      <td>4</td>\n",
       "      <td>#NAME?</td>\n",
       "      <td>- هذا الكتاب هو منجز روائي هائل بالمعلومات و ...</td>\n",
       "    </tr>\n",
       "  </tbody>\n",
       "</table>\n",
       "</div>"
      ],
      "text/plain": [
       "                                                 eng  \\\n",
       "0  Undoubtedly one of the most interesting novels...   \n",
       "1             This is literature. This is the novel!   \n",
       "2                               Azazel for all of us   \n",
       "3  I had a very strong passion to read and after ...   \n",
       "4                                             #NAME?   \n",
       "\n",
       "                                                  ar  \n",
       "0   من أمتع ما قرأت من روايات بلا شك. وحول الشك ت...  \n",
       "1                    هذا هو الأدب . هذه هي الرواية !  \n",
       "2   عزازيل لكل منا عزازيل يحاوره يساوره هو شماعة ...  \n",
       "3   انا كان عندى شغف قوى جدا لاقرأه وبعد ان تعمقت...  \n",
       "4   - هذا الكتاب هو منجز روائي هائل بالمعلومات و ...  "
      ]
     },
     "execution_count": 110,
     "metadata": {},
     "output_type": "execute_result"
    }
   ],
   "source": [
    "gr.rename(columns={'en': 'eng'}, inplace=True)\n",
    "gr.head()"
   ]
  },
  {
   "cell_type": "code",
   "execution_count": 113,
   "metadata": {},
   "outputs": [],
   "source": [
    "# concatentate the three\n",
    "df = pd.concat([ted,tatoba,gr]) # the three df must have the same heading, no heading gives vertical and horizontal concatenation"
   ]
  },
  {
   "cell_type": "code",
   "execution_count": 114,
   "metadata": {},
   "outputs": [
    {
     "data": {
      "text/html": [
       "<div>\n",
       "<style scoped>\n",
       "    .dataframe tbody tr th:only-of-type {\n",
       "        vertical-align: middle;\n",
       "    }\n",
       "\n",
       "    .dataframe tbody tr th {\n",
       "        vertical-align: top;\n",
       "    }\n",
       "\n",
       "    .dataframe thead th {\n",
       "        text-align: right;\n",
       "    }\n",
       "</style>\n",
       "<table border=\"1\" class=\"dataframe\">\n",
       "  <thead>\n",
       "    <tr style=\"text-align: right;\">\n",
       "      <th></th>\n",
       "      <th>eng</th>\n",
       "      <th>ar</th>\n",
       "    </tr>\n",
       "  </thead>\n",
       "  <tbody>\n",
       "    <tr>\n",
       "      <td>0</td>\n",
       "      <td>Stephen Palumbi: Following the mercury trail</td>\n",
       "      <td>ستيفن بلمبي: اتباع مسار الزئبق</td>\n",
       "    </tr>\n",
       "    <tr>\n",
       "      <td>1</td>\n",
       "      <td>It can be a very complicated thing, the ocean.</td>\n",
       "      <td>يمكن أن يكون المحيط أمرا في غاية التعقيد</td>\n",
       "    </tr>\n",
       "    <tr>\n",
       "      <td>2</td>\n",
       "      <td>And it can be a very complicated thing, what h...</td>\n",
       "      <td>و يمكن أن تكون ماهية صحة الإنسان أمرا في غاية ...</td>\n",
       "    </tr>\n",
       "    <tr>\n",
       "      <td>3</td>\n",
       "      <td>And bringing those two together might seem a v...</td>\n",
       "      <td>و لذلك قد يبدو آن الجمع بين هذين الأمرين سويا ...</td>\n",
       "    </tr>\n",
       "    <tr>\n",
       "      <td>4</td>\n",
       "      <td>And those simple themes aren't really themes a...</td>\n",
       "      <td>و هذه الأفكار الرئيسة المبسطة ليست فعلا أفكارا...</td>\n",
       "    </tr>\n",
       "    <tr>\n",
       "      <td>5</td>\n",
       "      <td>And I'm going to start with this one: If momma...</td>\n",
       "      <td>و أنا سأبدأ بهذا المثال إذا كانت الأم غير سعيد...</td>\n",
       "    </tr>\n",
       "    <tr>\n",
       "      <td>6</td>\n",
       "      <td>We know that, right? We've experienced that.</td>\n",
       "      <td>كلنا نعرف هذا، صحيح؟ كلنا مررنا بالتجربة</td>\n",
       "    </tr>\n",
       "    <tr>\n",
       "      <td>7</td>\n",
       "      <td>And if we just take that and we build from the...</td>\n",
       "      <td>فإذا أخذنا هذا و بنينا عليه نستطيع المواصلة لل...</td>\n",
       "    </tr>\n",
       "    <tr>\n",
       "      <td>8</td>\n",
       "      <td>That's the theme of my talk.</td>\n",
       "      <td>و هذه هي الفكرة الأساسية من كلامي</td>\n",
       "    </tr>\n",
       "    <tr>\n",
       "      <td>9</td>\n",
       "      <td>And we're making the ocean pretty unhappy in a...</td>\n",
       "      <td>و نحن نجعل المحيط غير سعيد بكثير من الطرق المخ...</td>\n",
       "    </tr>\n",
       "  </tbody>\n",
       "</table>\n",
       "</div>"
      ],
      "text/plain": [
       "                                                 eng  \\\n",
       "0       Stephen Palumbi: Following the mercury trail   \n",
       "1     It can be a very complicated thing, the ocean.   \n",
       "2  And it can be a very complicated thing, what h...   \n",
       "3  And bringing those two together might seem a v...   \n",
       "4  And those simple themes aren't really themes a...   \n",
       "5  And I'm going to start with this one: If momma...   \n",
       "6       We know that, right? We've experienced that.   \n",
       "7  And if we just take that and we build from the...   \n",
       "8                       That's the theme of my talk.   \n",
       "9  And we're making the ocean pretty unhappy in a...   \n",
       "\n",
       "                                                  ar  \n",
       "0                     ستيفن بلمبي: اتباع مسار الزئبق  \n",
       "1           يمكن أن يكون المحيط أمرا في غاية التعقيد  \n",
       "2  و يمكن أن تكون ماهية صحة الإنسان أمرا في غاية ...  \n",
       "3  و لذلك قد يبدو آن الجمع بين هذين الأمرين سويا ...  \n",
       "4  و هذه الأفكار الرئيسة المبسطة ليست فعلا أفكارا...  \n",
       "5  و أنا سأبدأ بهذا المثال إذا كانت الأم غير سعيد...  \n",
       "6           كلنا نعرف هذا، صحيح؟ كلنا مررنا بالتجربة  \n",
       "7  فإذا أخذنا هذا و بنينا عليه نستطيع المواصلة لل...  \n",
       "8                  و هذه هي الفكرة الأساسية من كلامي  \n",
       "9  و نحن نجعل المحيط غير سعيد بكثير من الطرق المخ...  "
      ]
     },
     "execution_count": 114,
     "metadata": {},
     "output_type": "execute_result"
    }
   ],
   "source": [
    "df.head(10)"
   ]
  },
  {
   "cell_type": "code",
   "execution_count": 115,
   "metadata": {},
   "outputs": [
    {
     "data": {
      "text/plain": [
       "(190164, 2)"
      ]
     },
     "execution_count": 115,
     "metadata": {},
     "output_type": "execute_result"
    }
   ],
   "source": [
    "df.shape"
   ]
  },
  {
   "cell_type": "code",
   "execution_count": 116,
   "metadata": {},
   "outputs": [
    {
     "data": {
      "text/html": [
       "<div>\n",
       "<style scoped>\n",
       "    .dataframe tbody tr th:only-of-type {\n",
       "        vertical-align: middle;\n",
       "    }\n",
       "\n",
       "    .dataframe tbody tr th {\n",
       "        vertical-align: top;\n",
       "    }\n",
       "\n",
       "    .dataframe thead th {\n",
       "        text-align: right;\n",
       "    }\n",
       "</style>\n",
       "<table border=\"1\" class=\"dataframe\">\n",
       "  <thead>\n",
       "    <tr style=\"text-align: right;\">\n",
       "      <th></th>\n",
       "      <th>eng</th>\n",
       "      <th>ar</th>\n",
       "    </tr>\n",
       "  </thead>\n",
       "  <tbody>\n",
       "    <tr>\n",
       "      <td>29148</td>\n",
       "      <td>A tragedy is a tragedy, a tragedy is a tragedy.</td>\n",
       "      <td>ماساه ماساه ماساه ماساه بما تحمله الكلمة من م...</td>\n",
       "    </tr>\n",
       "    <tr>\n",
       "      <td>29149</td>\n",
       "      <td>Bodden's philosophy, Nebodenman, is Hennes Nest.</td>\n",
       "      <td>فلسفه بودن يا نبودنمان هم هنوز نيست.عجبا!</td>\n",
       "    </tr>\n",
       "    <tr>\n",
       "      <td>29150</td>\n",
       "      <td>When he claims he neglects madness, he becomes...</td>\n",
       "      <td>حينما يدعي هملت الجنون يكون أكثر حكمة</td>\n",
       "    </tr>\n",
       "    <tr>\n",
       "      <td>29151</td>\n",
       "      <td>The most beautiful play written in the history...</td>\n",
       "      <td>اجمل مسرحية ألفت في تاريخ الادب الانجليزي</td>\n",
       "    </tr>\n",
       "    <tr>\n",
       "      <td>29152</td>\n",
       "      <td>NaN</td>\n",
       "      <td>NaN</td>\n",
       "    </tr>\n",
       "  </tbody>\n",
       "</table>\n",
       "</div>"
      ],
      "text/plain": [
       "                                                     eng  \\\n",
       "29148    A tragedy is a tragedy, a tragedy is a tragedy.   \n",
       "29149   Bodden's philosophy, Nebodenman, is Hennes Nest.   \n",
       "29150  When he claims he neglects madness, he becomes...   \n",
       "29151  The most beautiful play written in the history...   \n",
       "29152                                                NaN   \n",
       "\n",
       "                                                      ar  \n",
       "29148   ماساه ماساه ماساه ماساه بما تحمله الكلمة من م...  \n",
       "29149          فلسفه بودن يا نبودنمان هم هنوز نيست.عجبا!  \n",
       "29150              حينما يدعي هملت الجنون يكون أكثر حكمة  \n",
       "29151          اجمل مسرحية ألفت في تاريخ الادب الانجليزي  \n",
       "29152                                                NaN  "
      ]
     },
     "execution_count": 116,
     "metadata": {},
     "output_type": "execute_result"
    }
   ],
   "source": [
    "df.tail()"
   ]
  },
  {
   "cell_type": "code",
   "execution_count": 117,
   "metadata": {},
   "outputs": [],
   "source": [
    "# take nulls out\n",
    "df = df.dropna()"
   ]
  },
  {
   "cell_type": "code",
   "execution_count": 118,
   "metadata": {},
   "outputs": [
    {
     "data": {
      "text/plain": [
       "(190163, 2)"
      ]
     },
     "execution_count": 118,
     "metadata": {},
     "output_type": "execute_result"
    }
   ],
   "source": [
    "df.shape"
   ]
  },
  {
   "cell_type": "code",
   "execution_count": 119,
   "metadata": {},
   "outputs": [],
   "source": [
    "source_dataset = df.iloc[:,0] "
   ]
  },
  {
   "cell_type": "code",
   "execution_count": 124,
   "metadata": {},
   "outputs": [],
   "source": [
    "df.to_csv('all3.csv',encoding='utf-8-sig')"
   ]
  },
  {
   "cell_type": "code",
   "execution_count": 120,
   "metadata": {},
   "outputs": [
    {
     "data": {
      "text/plain": [
       "0         Stephen Palumbi: Following the mercury trail\n",
       "1       It can be a very complicated thing, the ocean.\n",
       "2    And it can be a very complicated thing, what h...\n",
       "3    And bringing those two together might seem a v...\n",
       "4    And those simple themes aren't really themes a...\n",
       "Name: eng, dtype: object"
      ]
     },
     "execution_count": 120,
     "metadata": {},
     "output_type": "execute_result"
    }
   ],
   "source": [
    "source_dataset.head()"
   ]
  },
  {
   "cell_type": "code",
   "execution_count": 121,
   "metadata": {},
   "outputs": [
    {
     "data": {
      "text/plain": [
       "0                       ستيفن بلمبي: اتباع مسار الزئبق\n",
       "1             يمكن أن يكون المحيط أمرا في غاية التعقيد\n",
       "2    و يمكن أن تكون ماهية صحة الإنسان أمرا في غاية ...\n",
       "3    و لذلك قد يبدو آن الجمع بين هذين الأمرين سويا ...\n",
       "4    و هذه الأفكار الرئيسة المبسطة ليست فعلا أفكارا...\n",
       "Name: ar, dtype: object"
      ]
     },
     "execution_count": 121,
     "metadata": {},
     "output_type": "execute_result"
    }
   ],
   "source": [
    "target_dataset = df.iloc[:,1]\n",
    "\n",
    "target_dataset.head()"
   ]
  },
  {
   "cell_type": "code",
   "execution_count": 122,
   "metadata": {},
   "outputs": [],
   "source": [
    "from sklearn.model_selection import train_test_split\n",
    "\n",
    "# split complete dataset in train-test with ratio 80-20 respectively\n",
    "\n",
    "X_train, X_test, y_train, y_test = train_test_split(source_dataset, target_dataset, test_size=0.2, random_state=1)\n",
    "\n",
    "\n",
    "# again split train data in train-validation with 90-10 ratio respectively\n",
    "\n",
    "X_train, X_val, y_train, y_val = train_test_split(X_train, y_train, test_size=0.1, random_state=1)"
   ]
  },
  {
   "cell_type": "code",
   "execution_count": 123,
   "metadata": {},
   "outputs": [],
   "source": [
    "# export train, validation and test dataframes as text files\n",
    "\n",
    "export_csv = X_train.to_csv (r'src-3-train.txt' , index = None, header = False)\n",
    "\n",
    "export_csv = y_train.to_csv (r'tgt-3-train.txt' , index = None, header = False)\n",
    "\n",
    "export_csv = X_val.to_csv (r'src-3-val.txt' , index = None, header = False)\n",
    "\n",
    "export_csv = y_val.to_csv (r'tgt-3-val.txt' , index = None, header = False)\n",
    "\n",
    "export_csv = X_test.to_csv (r'src-3-test.txt' , index = None, header = False)\n",
    "\n",
    "export_csv = y_test.to_csv (r'tgt-3-test.txt' , index = None, header = False)"
   ]
  },
  {
   "cell_type": "code",
   "execution_count": 125,
   "metadata": {},
   "outputs": [
    {
     "name": "stdout",
     "output_type": "stream",
     "text": [
      "Shape of input_train data: (136917,)\n",
      "===================================\n",
      "\n",
      "Shape of target_train data :  (136917,)\n",
      "===================================\n",
      "\n",
      "Shape of input_validation data :  (15213,)\n",
      "===================================\n",
      "\n",
      "Shape of target_validation data :  (15213,)\n",
      "===================================\n",
      "\n",
      "Shape of input_test data :  (38033,)\n",
      "===================================\n",
      "\n",
      "Shape of target_test data :  (38033,)\n",
      "===================================\n",
      "\n"
     ]
    }
   ],
   "source": [
    "print (\"Shape of input_train data:\", np.shape(X_train))\n",
    "\n",
    "print('===================================\\n')\n",
    "\n",
    "print (\"Shape of target_train data : \" , np.shape(y_train))\n",
    "\n",
    "print('===================================\\n')\n",
    "\n",
    "print (\"Shape of input_validation data : \" , np.shape(X_val))\n",
    "\n",
    "print('===================================\\n')\n",
    "\n",
    "print (\"Shape of target_validation data : \" , np.shape(y_val))\n",
    "\n",
    "print('===================================\\n')\n",
    "\n",
    "print (\"Shape of input_test data : \" , np.shape(X_test))\n",
    "\n",
    "print('===================================\\n')\n",
    "\n",
    "print (\"Shape of target_test data : \" , np.shape(y_test))\n",
    "\n",
    "print('===================================\\n')"
   ]
  },
  {
   "cell_type": "code",
   "execution_count": 126,
   "metadata": {},
   "outputs": [
    {
     "name": "stdout",
     "output_type": "stream",
     "text": [
      "Python 3.7.4\n"
     ]
    }
   ],
   "source": [
    "!python --version"
   ]
  },
  {
   "cell_type": "code",
   "execution_count": 29,
   "metadata": {},
   "outputs": [],
   "source": [
    "import pandas as pd\n",
    "data = pd.read_csv('C:/Users/sadan/OneDrive/surrey/sentiment_proj/datasets/manual_trans/tatoba_ted_syrian_gr.csv', sep=',', encoding='utf-8')"
   ]
  },
  {
   "cell_type": "code",
   "execution_count": 30,
   "metadata": {},
   "outputs": [
    {
     "data": {
      "text/html": [
       "<div>\n",
       "<style scoped>\n",
       "    .dataframe tbody tr th:only-of-type {\n",
       "        vertical-align: middle;\n",
       "    }\n",
       "\n",
       "    .dataframe tbody tr th {\n",
       "        vertical-align: top;\n",
       "    }\n",
       "\n",
       "    .dataframe thead th {\n",
       "        text-align: right;\n",
       "    }\n",
       "</style>\n",
       "<table border=\"1\" class=\"dataframe\">\n",
       "  <thead>\n",
       "    <tr style=\"text-align: right;\">\n",
       "      <th></th>\n",
       "      <th>terify</th>\n",
       "      <th>خوف</th>\n",
       "    </tr>\n",
       "  </thead>\n",
       "  <tbody>\n",
       "    <tr>\n",
       "      <td>0</td>\n",
       "      <td>terifying</td>\n",
       "      <td>مفزع</td>\n",
       "    </tr>\n",
       "    <tr>\n",
       "      <td>1</td>\n",
       "      <td>teror</td>\n",
       "      <td>رعب</td>\n",
       "    </tr>\n",
       "    <tr>\n",
       "      <td>2</td>\n",
       "      <td>disapoint</td>\n",
       "      <td>خيب</td>\n",
       "    </tr>\n",
       "    <tr>\n",
       "      <td>3</td>\n",
       "      <td>disapoint</td>\n",
       "      <td>خيب</td>\n",
       "    </tr>\n",
       "    <tr>\n",
       "      <td>4</td>\n",
       "      <td>disapointment</td>\n",
       "      <td>مخزلة</td>\n",
       "    </tr>\n",
       "  </tbody>\n",
       "</table>\n",
       "</div>"
      ],
      "text/plain": [
       "          terify    خوف\n",
       "0      terifying   مفزع\n",
       "1          teror    رعب\n",
       "2      disapoint    خيب\n",
       "3      disapoint    خيب\n",
       "4  disapointment  مخزلة"
      ]
     },
     "execution_count": 30,
     "metadata": {},
     "output_type": "execute_result"
    }
   ],
   "source": [
    "data.head()"
   ]
  },
  {
   "cell_type": "code",
   "execution_count": 31,
   "metadata": {},
   "outputs": [],
   "source": [
    "source_dataset = data.iloc[:,0] "
   ]
  },
  {
   "cell_type": "code",
   "execution_count": 32,
   "metadata": {},
   "outputs": [
    {
     "data": {
      "text/plain": [
       "0        terifying\n",
       "1            teror\n",
       "2        disapoint\n",
       "3        disapoint\n",
       "4    disapointment\n",
       "Name: terify, dtype: object"
      ]
     },
     "execution_count": 32,
     "metadata": {},
     "output_type": "execute_result"
    }
   ],
   "source": [
    "source_dataset.head()"
   ]
  },
  {
   "cell_type": "code",
   "execution_count": 33,
   "metadata": {},
   "outputs": [
    {
     "data": {
      "text/plain": [
       "0     مفزع\n",
       "1      رعب\n",
       "2      خيب\n",
       "3      خيب\n",
       "4    مخزلة\n",
       "Name: خوف, dtype: object"
      ]
     },
     "execution_count": 33,
     "metadata": {},
     "output_type": "execute_result"
    }
   ],
   "source": [
    "target_dataset = data.iloc[:,1]\n",
    "\n",
    "target_dataset.head()"
   ]
  },
  {
   "cell_type": "code",
   "execution_count": 34,
   "metadata": {},
   "outputs": [
    {
     "data": {
      "text/plain": [
       "(191296, 2)"
      ]
     },
     "execution_count": 34,
     "metadata": {},
     "output_type": "execute_result"
    }
   ],
   "source": [
    "data.shape\n"
   ]
  },
  {
   "cell_type": "code",
   "execution_count": 18,
   "metadata": {},
   "outputs": [
    {
     "data": {
      "text/html": [
       "<div>\n",
       "<style scoped>\n",
       "    .dataframe tbody tr th:only-of-type {\n",
       "        vertical-align: middle;\n",
       "    }\n",
       "\n",
       "    .dataframe tbody tr th {\n",
       "        vertical-align: top;\n",
       "    }\n",
       "\n",
       "    .dataframe thead th {\n",
       "        text-align: right;\n",
       "    }\n",
       "</style>\n",
       "<table border=\"1\" class=\"dataframe\">\n",
       "  <thead>\n",
       "    <tr style=\"text-align: right;\">\n",
       "      <th></th>\n",
       "      <th>terify</th>\n",
       "      <th>خوف</th>\n",
       "    </tr>\n",
       "  </thead>\n",
       "  <tbody>\n",
       "    <tr>\n",
       "      <td>0</td>\n",
       "      <td>terifying</td>\n",
       "      <td>مفزع</td>\n",
       "    </tr>\n",
       "    <tr>\n",
       "      <td>1</td>\n",
       "      <td>teror</td>\n",
       "      <td>رعب</td>\n",
       "    </tr>\n",
       "    <tr>\n",
       "      <td>2</td>\n",
       "      <td>disapoint</td>\n",
       "      <td>خيب</td>\n",
       "    </tr>\n",
       "    <tr>\n",
       "      <td>3</td>\n",
       "      <td>disapoint</td>\n",
       "      <td>خيب</td>\n",
       "    </tr>\n",
       "    <tr>\n",
       "      <td>4</td>\n",
       "      <td>disapointment</td>\n",
       "      <td>مخزلة</td>\n",
       "    </tr>\n",
       "    <tr>\n",
       "      <td>...</td>\n",
       "      <td>...</td>\n",
       "      <td>...</td>\n",
       "    </tr>\n",
       "    <tr>\n",
       "      <td>191291</td>\n",
       "      <td>what made me to burn it and imagine the fire g...</td>\n",
       "      <td>مما اضطرني الى حرقهاتصوروا ان اللهب ارتفع اعلى...</td>\n",
       "    </tr>\n",
       "    <tr>\n",
       "      <td>191292</td>\n",
       "      <td>And they are taken to external actions that ha...</td>\n",
       "      <td>ومأخوذين بتصرفات خارجية مبهرة ملهاش علاقة بالم...</td>\n",
       "    </tr>\n",
       "    <tr>\n",
       "      <td>191293</td>\n",
       "      <td>I was driving yesterday on the same road behin...</td>\n",
       "      <td>على هالطريق نفسو كنت مبارحة ومشيت ورا مرسيدس ف...</td>\n",
       "    </tr>\n",
       "    <tr>\n",
       "      <td>191294</td>\n",
       "      <td>and do something useful and also animals are t...</td>\n",
       "      <td>وبيعملو شي مفيد لانو وزيادة علييهم الحيوانات ..</td>\n",
       "    </tr>\n",
       "    <tr>\n",
       "      <td>191295</td>\n",
       "      <td>I love design tow, and I am intending to reser...</td>\n",
       "      <td>تصميم ٢ أنا عجبني كتير وناوي احجزه للمدام المس...</td>\n",
       "    </tr>\n",
       "  </tbody>\n",
       "</table>\n",
       "<p>191295 rows × 2 columns</p>\n",
       "</div>"
      ],
      "text/plain": [
       "                                                   terify  \\\n",
       "0                                               terifying   \n",
       "1                                                   teror   \n",
       "2                                               disapoint   \n",
       "3                                               disapoint   \n",
       "4                                           disapointment   \n",
       "...                                                   ...   \n",
       "191291  what made me to burn it and imagine the fire g...   \n",
       "191292  And they are taken to external actions that ha...   \n",
       "191293  I was driving yesterday on the same road behin...   \n",
       "191294  and do something useful and also animals are t...   \n",
       "191295  I love design tow, and I am intending to reser...   \n",
       "\n",
       "                                                      خوف  \n",
       "0                                                    مفزع  \n",
       "1                                                     رعب  \n",
       "2                                                     خيب  \n",
       "3                                                     خيب  \n",
       "4                                                   مخزلة  \n",
       "...                                                   ...  \n",
       "191291  مما اضطرني الى حرقهاتصوروا ان اللهب ارتفع اعلى...  \n",
       "191292  ومأخوذين بتصرفات خارجية مبهرة ملهاش علاقة بالم...  \n",
       "191293  على هالطريق نفسو كنت مبارحة ومشيت ورا مرسيدس ف...  \n",
       "191294   وبيعملو شي مفيد لانو وزيادة علييهم الحيوانات ..   \n",
       "191295  تصميم ٢ أنا عجبني كتير وناوي احجزه للمدام المس...  \n",
       "\n",
       "[191295 rows x 2 columns]"
      ]
     },
     "execution_count": 18,
     "metadata": {},
     "output_type": "execute_result"
    }
   ],
   "source": [
    "data.dropna()"
   ]
  },
  {
   "cell_type": "code",
   "execution_count": 35,
   "metadata": {},
   "outputs": [
    {
     "data": {
      "text/plain": [
       "(191296, 2)"
      ]
     },
     "execution_count": 35,
     "metadata": {},
     "output_type": "execute_result"
    }
   ],
   "source": [
    "data.shape"
   ]
  },
  {
   "cell_type": "code",
   "execution_count": 36,
   "metadata": {},
   "outputs": [],
   "source": [
    "from sklearn.model_selection import train_test_split\n",
    "\n",
    "# split complete dataset in train-test with ratio 80-20 respectively\n",
    "\n",
    "X_train, X_val, y_train, y_val = train_test_split(source_dataset, target_dataset, test_size=0.1, shuffle=None)\n",
    "\n",
    "\n",
    "# again split train data in train-validation with 90-10 ratio respectively\n",
    "\n",
    "#X_train, X_val, y_train, y_val = train_test_split(X_train, y_train, test_size=0.1, random_state=1)"
   ]
  },
  {
   "cell_type": "code",
   "execution_count": 37,
   "metadata": {},
   "outputs": [
    {
     "name": "stdout",
     "output_type": "stream",
     "text": [
      "Shape of input_train data: (172166,)\n",
      "===================================\n",
      "\n",
      "Shape of target_train data :  (172166,)\n",
      "===================================\n",
      "\n",
      "Shape of input_validation data :  (19130,)\n",
      "===================================\n",
      "\n",
      "Shape of target_validation data :  (19130,)\n",
      "===================================\n",
      "\n"
     ]
    }
   ],
   "source": [
    "print (\"Shape of input_train data:\", np.shape(X_train))\n",
    "\n",
    "print('===================================\\n')\n",
    "\n",
    "print (\"Shape of target_train data : \" , np.shape(y_train))\n",
    "\n",
    "print('===================================\\n')\n",
    "\n",
    "print (\"Shape of input_validation data : \" , np.shape(X_val))\n",
    "\n",
    "print('===================================\\n')\n",
    "\n",
    "print (\"Shape of target_validation data : \" , np.shape(y_val))\n",
    "\n",
    "print('===================================\\n')\n",
    "\n",
    "#print (\"Shape of input_test data : \" , np.shape(X_test))\n",
    "\n",
    "#print('===================================\\n')\n",
    "\n",
    "#print (\"Shape of target_test data : \" , np.shape(y_test))\n",
    "\n",
    "#print('===================================\\n')"
   ]
  },
  {
   "cell_type": "code",
   "execution_count": 38,
   "metadata": {},
   "outputs": [],
   "source": [
    "# connecting files for translation \n",
    "import os\n",
    "DATA_HOME = os.chdir('C:\\\\Users\\\\sadan\\\\OneDrive\\\\surrey\\\\sentiment_proj\\\\datasets\\\\manual_trans\\\\opennmt') #change the directory of the notebook\n",
    "#os.getcwd() check the current directory"
   ]
  },
  {
   "cell_type": "code",
   "execution_count": 39,
   "metadata": {},
   "outputs": [],
   "source": [
    "# export train, validation and test dataframes as text files\n",
    "\n",
    "export_csv = X_train.to_csv (r'src-lex-train.txt' , index = None, header = False)\n",
    "\n",
    "export_csv = y_train.to_csv (r'tgt-lex-train.txt' , index = None, header = False)\n",
    "\n",
    "export_csv = X_val.to_csv (r'src-lex-val.txt' , index = None, header = False)\n",
    "\n",
    "export_csv = y_val.to_csv (r'tgt-lex-val.txt' , index = None, header = False)\n",
    "\n",
    "#export_csv = X_test.to_csv (r'src-3-test.txt' , index = None, header = False)\n",
    "\n",
    "#export_csv = y_test.to_csv (r'tgt-3-test.txt' , index = None, header = False)"
   ]
  },
  {
   "cell_type": "code",
   "execution_count": null,
   "metadata": {},
   "outputs": [],
   "source": []
  }
 ],
 "metadata": {
  "kernelspec": {
   "display_name": "Python 3",
   "language": "python",
   "name": "python3"
  },
  "language_info": {
   "codemirror_mode": {
    "name": "ipython",
    "version": 3
   },
   "file_extension": ".py",
   "mimetype": "text/x-python",
   "name": "python",
   "nbconvert_exporter": "python",
   "pygments_lexer": "ipython3",
   "version": "3.8.5"
  }
 },
 "nbformat": 4,
 "nbformat_minor": 2
}
