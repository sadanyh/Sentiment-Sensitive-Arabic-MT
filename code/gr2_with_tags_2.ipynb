{
  "nbformat": 4,
  "nbformat_minor": 0,
  "metadata": {
    "colab": {
      "name": "gr2_with_tags.ipynb",
      "provenance": [],
      "collapsed_sections": []
    },
    "kernelspec": {
      "name": "python3",
      "display_name": "Python 3"
    },
    "accelerator": "GPU"
  },
  "cells": [
    {
      "cell_type": "code",
      "metadata": {
        "id": "MTpUlx4Ft5Ip",
        "colab_type": "code",
        "colab": {
          "base_uri": "https://localhost:8080/",
          "height": 330
        },
        "outputId": "142711dc-a8bb-493f-9c54-25a2bece7f4b"
      },
      "source": [
        "!pip install torch==1.4.0 torchvision==0.5.0  #need to downgrade the pytorch version"
      ],
      "execution_count": 3,
      "outputs": [
        {
          "output_type": "stream",
          "text": [
            "Collecting torch==1.4.0\n",
            "\u001b[?25l  Downloading https://files.pythonhosted.org/packages/24/19/4804aea17cd136f1705a5e98a00618cb8f6ccc375ad8bfa437408e09d058/torch-1.4.0-cp36-cp36m-manylinux1_x86_64.whl (753.4MB)\n",
            "\u001b[K     |████████████████████████████████| 753.4MB 22kB/s \n",
            "\u001b[?25hCollecting torchvision==0.5.0\n",
            "\u001b[?25l  Downloading https://files.pythonhosted.org/packages/7e/90/6141bf41f5655c78e24f40f710fdd4f8a8aff6c8b7c6f0328240f649bdbe/torchvision-0.5.0-cp36-cp36m-manylinux1_x86_64.whl (4.0MB)\n",
            "\u001b[K     |████████████████████████████████| 4.0MB 46.1MB/s \n",
            "\u001b[?25hRequirement already satisfied: pillow>=4.1.1 in /usr/local/lib/python3.6/dist-packages (from torchvision==0.5.0) (7.0.0)\n",
            "Requirement already satisfied: six in /usr/local/lib/python3.6/dist-packages (from torchvision==0.5.0) (1.15.0)\n",
            "Requirement already satisfied: numpy in /usr/local/lib/python3.6/dist-packages (from torchvision==0.5.0) (1.18.5)\n",
            "Installing collected packages: torch, torchvision\n",
            "  Found existing installation: torch 1.6.0+cu101\n",
            "    Uninstalling torch-1.6.0+cu101:\n",
            "      Successfully uninstalled torch-1.6.0+cu101\n",
            "  Found existing installation: torchvision 0.7.0+cu101\n",
            "    Uninstalling torchvision-0.7.0+cu101:\n",
            "      Successfully uninstalled torchvision-0.7.0+cu101\n",
            "Successfully installed torch-1.4.0 torchvision-0.5.0\n"
          ],
          "name": "stdout"
        }
      ]
    },
    {
      "cell_type": "code",
      "metadata": {
        "id": "C9xD-_Obt-bE",
        "colab_type": "code",
        "colab": {
          "base_uri": "https://localhost:8080/",
          "height": 310
        },
        "outputId": "fdfee062-7e48-4b73-f9b7-1ff3e8f762ee"
      },
      "source": [
        "!pip install torchtext==0.4.0"
      ],
      "execution_count": 4,
      "outputs": [
        {
          "output_type": "stream",
          "text": [
            "Collecting torchtext==0.4.0\n",
            "\u001b[?25l  Downloading https://files.pythonhosted.org/packages/43/94/929d6bd236a4fb5c435982a7eb9730b78dcd8659acf328fd2ef9de85f483/torchtext-0.4.0-py3-none-any.whl (53kB)\n",
            "\r\u001b[K     |██████▏                         | 10kB 26.9MB/s eta 0:00:01\r\u001b[K     |████████████▍                   | 20kB 3.4MB/s eta 0:00:01\r\u001b[K     |██████████████████▌             | 30kB 4.6MB/s eta 0:00:01\r\u001b[K     |████████████████████████▊       | 40kB 4.8MB/s eta 0:00:01\r\u001b[K     |██████████████████████████████▉ | 51kB 4.0MB/s eta 0:00:01\r\u001b[K     |████████████████████████████████| 61kB 3.4MB/s \n",
            "\u001b[?25hRequirement already satisfied: tqdm in /usr/local/lib/python3.6/dist-packages (from torchtext==0.4.0) (4.41.1)\n",
            "Requirement already satisfied: torch in /usr/local/lib/python3.6/dist-packages (from torchtext==0.4.0) (1.4.0)\n",
            "Requirement already satisfied: six in /usr/local/lib/python3.6/dist-packages (from torchtext==0.4.0) (1.15.0)\n",
            "Requirement already satisfied: numpy in /usr/local/lib/python3.6/dist-packages (from torchtext==0.4.0) (1.18.5)\n",
            "Requirement already satisfied: requests in /usr/local/lib/python3.6/dist-packages (from torchtext==0.4.0) (2.23.0)\n",
            "Requirement already satisfied: urllib3!=1.25.0,!=1.25.1,<1.26,>=1.21.1 in /usr/local/lib/python3.6/dist-packages (from requests->torchtext==0.4.0) (1.24.3)\n",
            "Requirement already satisfied: certifi>=2017.4.17 in /usr/local/lib/python3.6/dist-packages (from requests->torchtext==0.4.0) (2020.6.20)\n",
            "Requirement already satisfied: idna<3,>=2.5 in /usr/local/lib/python3.6/dist-packages (from requests->torchtext==0.4.0) (2.10)\n",
            "Requirement already satisfied: chardet<4,>=3.0.2 in /usr/local/lib/python3.6/dist-packages (from requests->torchtext==0.4.0) (3.0.4)\n",
            "Installing collected packages: torchtext\n",
            "  Found existing installation: torchtext 0.3.1\n",
            "    Uninstalling torchtext-0.3.1:\n",
            "      Successfully uninstalled torchtext-0.3.1\n",
            "Successfully installed torchtext-0.4.0\n"
          ],
          "name": "stdout"
        }
      ]
    },
    {
      "cell_type": "code",
      "metadata": {
        "id": "rdJ3I2xOuCNJ",
        "colab_type": "code",
        "colab": {
          "base_uri": "https://localhost:8080/",
          "height": 1000
        },
        "outputId": "a412b31b-4eb2-4587-cd94-17476ca2021f"
      },
      "source": [
        "!pip install OpenNMT-py"
      ],
      "execution_count": 5,
      "outputs": [
        {
          "output_type": "stream",
          "text": [
            "Collecting OpenNMT-py\n",
            "\u001b[?25l  Downloading https://files.pythonhosted.org/packages/7e/c7/b3d9bf9a6a681b10c00aa897650f79d4e7ad8a80317c5cddb6a3ef43540c/OpenNMT_py-1.1.1-py3-none-any.whl (189kB)\n",
            "\u001b[K     |████████████████████████████████| 194kB 4.5MB/s \n",
            "\u001b[?25hCollecting tqdm~=4.30.0\n",
            "\u001b[?25l  Downloading https://files.pythonhosted.org/packages/76/4c/103a4d3415dafc1ddfe6a6624333971756e2d3dd8c6dc0f520152855f040/tqdm-4.30.0-py2.py3-none-any.whl (47kB)\n",
            "\u001b[K     |████████████████████████████████| 51kB 4.5MB/s \n",
            "\u001b[?25hCollecting configargparse\n",
            "\u001b[?25l  Downloading https://files.pythonhosted.org/packages/bb/79/3045743bb26ca2e44a1d317c37395462bfed82dbbd38e69a3280b63696ce/ConfigArgParse-1.2.3.tar.gz (42kB)\n",
            "\u001b[K     |████████████████████████████████| 51kB 5.4MB/s \n",
            "\u001b[?25hRequirement already satisfied: torchtext==0.4.0 in /usr/local/lib/python3.6/dist-packages (from OpenNMT-py) (0.4.0)\n",
            "Requirement already satisfied: pyyaml in /usr/local/lib/python3.6/dist-packages (from OpenNMT-py) (3.13)\n",
            "Collecting pyonmttok==1.*; platform_system == \"Linux\"\n",
            "\u001b[?25l  Downloading https://files.pythonhosted.org/packages/ff/fc/aaa5096a948f2923d5e012409586274956368e00a6a4008412fb2807882d/pyonmttok-1.18.5-cp36-cp36m-manylinux1_x86_64.whl (2.2MB)\n",
            "\u001b[K     |████████████████████████████████| 2.2MB 7.7MB/s \n",
            "\u001b[?25hRequirement already satisfied: future in /usr/local/lib/python3.6/dist-packages (from OpenNMT-py) (0.16.0)\n",
            "Requirement already satisfied: six in /usr/local/lib/python3.6/dist-packages (from OpenNMT-py) (1.15.0)\n",
            "Requirement already satisfied: tensorboard>=1.14 in /usr/local/lib/python3.6/dist-packages (from OpenNMT-py) (2.3.0)\n",
            "Collecting waitress\n",
            "\u001b[?25l  Downloading https://files.pythonhosted.org/packages/26/d1/5209fb8c764497a592363c47054436a515b47b8c3e4970ddd7184f088857/waitress-1.4.4-py2.py3-none-any.whl (58kB)\n",
            "\u001b[K     |████████████████████████████████| 61kB 7.6MB/s \n",
            "\u001b[?25hRequirement already satisfied: flask in /usr/local/lib/python3.6/dist-packages (from OpenNMT-py) (1.1.2)\n",
            "Requirement already satisfied: torch>=1.4.0 in /usr/local/lib/python3.6/dist-packages (from OpenNMT-py) (1.4.0)\n",
            "Requirement already satisfied: requests in /usr/local/lib/python3.6/dist-packages (from torchtext==0.4.0->OpenNMT-py) (2.23.0)\n",
            "Requirement already satisfied: numpy in /usr/local/lib/python3.6/dist-packages (from torchtext==0.4.0->OpenNMT-py) (1.18.5)\n",
            "Requirement already satisfied: absl-py>=0.4 in /usr/local/lib/python3.6/dist-packages (from tensorboard>=1.14->OpenNMT-py) (0.9.0)\n",
            "Requirement already satisfied: setuptools>=41.0.0 in /usr/local/lib/python3.6/dist-packages (from tensorboard>=1.14->OpenNMT-py) (49.2.0)\n",
            "Requirement already satisfied: tensorboard-plugin-wit>=1.6.0 in /usr/local/lib/python3.6/dist-packages (from tensorboard>=1.14->OpenNMT-py) (1.7.0)\n",
            "Requirement already satisfied: google-auth-oauthlib<0.5,>=0.4.1 in /usr/local/lib/python3.6/dist-packages (from tensorboard>=1.14->OpenNMT-py) (0.4.1)\n",
            "Requirement already satisfied: google-auth<2,>=1.6.3 in /usr/local/lib/python3.6/dist-packages (from tensorboard>=1.14->OpenNMT-py) (1.17.2)\n",
            "Requirement already satisfied: markdown>=2.6.8 in /usr/local/lib/python3.6/dist-packages (from tensorboard>=1.14->OpenNMT-py) (3.2.2)\n",
            "Requirement already satisfied: grpcio>=1.24.3 in /usr/local/lib/python3.6/dist-packages (from tensorboard>=1.14->OpenNMT-py) (1.31.0)\n",
            "Requirement already satisfied: werkzeug>=0.11.15 in /usr/local/lib/python3.6/dist-packages (from tensorboard>=1.14->OpenNMT-py) (1.0.1)\n",
            "Requirement already satisfied: protobuf>=3.6.0 in /usr/local/lib/python3.6/dist-packages (from tensorboard>=1.14->OpenNMT-py) (3.12.4)\n",
            "Requirement already satisfied: wheel>=0.26; python_version >= \"3\" in /usr/local/lib/python3.6/dist-packages (from tensorboard>=1.14->OpenNMT-py) (0.34.2)\n",
            "Requirement already satisfied: itsdangerous>=0.24 in /usr/local/lib/python3.6/dist-packages (from flask->OpenNMT-py) (1.1.0)\n",
            "Requirement already satisfied: click>=5.1 in /usr/local/lib/python3.6/dist-packages (from flask->OpenNMT-py) (7.1.2)\n",
            "Requirement already satisfied: Jinja2>=2.10.1 in /usr/local/lib/python3.6/dist-packages (from flask->OpenNMT-py) (2.11.2)\n",
            "Requirement already satisfied: chardet<4,>=3.0.2 in /usr/local/lib/python3.6/dist-packages (from requests->torchtext==0.4.0->OpenNMT-py) (3.0.4)\n",
            "Requirement already satisfied: idna<3,>=2.5 in /usr/local/lib/python3.6/dist-packages (from requests->torchtext==0.4.0->OpenNMT-py) (2.10)\n",
            "Requirement already satisfied: certifi>=2017.4.17 in /usr/local/lib/python3.6/dist-packages (from requests->torchtext==0.4.0->OpenNMT-py) (2020.6.20)\n",
            "Requirement already satisfied: urllib3!=1.25.0,!=1.25.1,<1.26,>=1.21.1 in /usr/local/lib/python3.6/dist-packages (from requests->torchtext==0.4.0->OpenNMT-py) (1.24.3)\n",
            "Requirement already satisfied: requests-oauthlib>=0.7.0 in /usr/local/lib/python3.6/dist-packages (from google-auth-oauthlib<0.5,>=0.4.1->tensorboard>=1.14->OpenNMT-py) (1.3.0)\n",
            "Requirement already satisfied: cachetools<5.0,>=2.0.0 in /usr/local/lib/python3.6/dist-packages (from google-auth<2,>=1.6.3->tensorboard>=1.14->OpenNMT-py) (4.1.1)\n",
            "Requirement already satisfied: rsa<5,>=3.1.4; python_version >= \"3\" in /usr/local/lib/python3.6/dist-packages (from google-auth<2,>=1.6.3->tensorboard>=1.14->OpenNMT-py) (4.6)\n",
            "Requirement already satisfied: pyasn1-modules>=0.2.1 in /usr/local/lib/python3.6/dist-packages (from google-auth<2,>=1.6.3->tensorboard>=1.14->OpenNMT-py) (0.2.8)\n",
            "Requirement already satisfied: importlib-metadata; python_version < \"3.8\" in /usr/local/lib/python3.6/dist-packages (from markdown>=2.6.8->tensorboard>=1.14->OpenNMT-py) (1.7.0)\n",
            "Requirement already satisfied: MarkupSafe>=0.23 in /usr/local/lib/python3.6/dist-packages (from Jinja2>=2.10.1->flask->OpenNMT-py) (1.1.1)\n",
            "Requirement already satisfied: oauthlib>=3.0.0 in /usr/local/lib/python3.6/dist-packages (from requests-oauthlib>=0.7.0->google-auth-oauthlib<0.5,>=0.4.1->tensorboard>=1.14->OpenNMT-py) (3.1.0)\n",
            "Requirement already satisfied: pyasn1>=0.1.3 in /usr/local/lib/python3.6/dist-packages (from rsa<5,>=3.1.4; python_version >= \"3\"->google-auth<2,>=1.6.3->tensorboard>=1.14->OpenNMT-py) (0.4.8)\n",
            "Requirement already satisfied: zipp>=0.5 in /usr/local/lib/python3.6/dist-packages (from importlib-metadata; python_version < \"3.8\"->markdown>=2.6.8->tensorboard>=1.14->OpenNMT-py) (3.1.0)\n",
            "Building wheels for collected packages: configargparse\n",
            "  Building wheel for configargparse (setup.py) ... \u001b[?25l\u001b[?25hdone\n",
            "  Created wheel for configargparse: filename=ConfigArgParse-1.2.3-cp36-none-any.whl size=19328 sha256=12e665eda7167661461896fb5c6938619ff9eceee98912287c007cd2a862785f\n",
            "  Stored in directory: /root/.cache/pip/wheels/bd/d6/53/034032da9498bda2385cd50a51a289e88090b5da2d592b1fdf\n",
            "Successfully built configargparse\n",
            "\u001b[31mERROR: spacy 2.2.4 has requirement tqdm<5.0.0,>=4.38.0, but you'll have tqdm 4.30.0 which is incompatible.\u001b[0m\n",
            "Installing collected packages: tqdm, configargparse, pyonmttok, waitress, OpenNMT-py\n",
            "  Found existing installation: tqdm 4.41.1\n",
            "    Uninstalling tqdm-4.41.1:\n",
            "      Successfully uninstalled tqdm-4.41.1\n",
            "Successfully installed OpenNMT-py-1.1.1 configargparse-1.2.3 pyonmttok-1.18.5 tqdm-4.30.0 waitress-1.4.4\n"
          ],
          "name": "stdout"
        }
      ]
    },
    {
      "cell_type": "code",
      "metadata": {
        "id": "3mE2vLqDuC64",
        "colab_type": "code",
        "colab": {
          "base_uri": "https://localhost:8080/",
          "height": 103
        },
        "outputId": "2c555ded-b921-43dd-8983-ab6936aef574"
      },
      "source": [
        "!git clone https://github.com/OpenNMT/OpenNMT-py.git"
      ],
      "execution_count": 6,
      "outputs": [
        {
          "output_type": "stream",
          "text": [
            "Cloning into 'OpenNMT-py'...\n",
            "remote: Enumerating objects: 16112, done.\u001b[K\n",
            "remote: Total 16112 (delta 0), reused 0 (delta 0), pack-reused 16112\u001b[K\n",
            "Receiving objects: 100% (16112/16112), 146.81 MiB | 35.46 MiB/s, done.\n",
            "Resolving deltas: 100% (11652/11652), done.\n"
          ],
          "name": "stdout"
        }
      ]
    },
    {
      "cell_type": "code",
      "metadata": {
        "id": "2Iqvr6rruL1s",
        "colab_type": "code",
        "colab": {}
      },
      "source": [
        "mkdir data model #the data for source and target should be uploaded in the data dir"
      ],
      "execution_count": 1,
      "outputs": []
    },
    {
      "cell_type": "markdown",
      "metadata": {
        "id": "VUgTByI4083c",
        "colab_type": "text"
      },
      "source": [
        "**The data files should be uploaded in the data directory, my root directory is /content**"
      ]
    },
    {
      "cell_type": "code",
      "metadata": {
        "id": "jpDjwVo8upo3",
        "colab_type": "code",
        "colab": {
          "base_uri": "https://localhost:8080/",
          "height": 224
        },
        "outputId": "3df9d591-3e1a-4d02-c968-59d369bb06bc"
      },
      "source": [
        "!python /content/OpenNMT-py/preprocess.py \\\n",
        "      -train_src /content/data/src-gr20-train.txt \\\n",
        "      -train_tgt /content/data/tgt-gr20-train.txt \\\n",
        "      -valid_src /content/data/src-gr20-val.txt \\\n",
        "      -valid_tgt /content/data/tgt-gr20-val.txt \\\n",
        "      -save_data /content/data/datum"
      ],
      "execution_count": 7,
      "outputs": [
        {
          "output_type": "stream",
          "text": [
            "[2020-08-13 12:55:51,176 INFO] Extracting features...\n",
            "[2020-08-13 12:55:51,176 INFO]  * number of source features: 0.\n",
            "[2020-08-13 12:55:51,176 INFO]  * number of target features: 0.\n",
            "[2020-08-13 12:55:51,176 INFO] Building `Fields` object...\n",
            "[2020-08-13 12:55:51,176 INFO] Building & saving training data...\n",
            "[2020-08-13 12:55:51,587 INFO] Building shard 0.\n",
            "[2020-08-13 12:55:58,448 INFO]  * saving 0th train data shard to /content/data/datum.train.0.pt.\n",
            "[2020-08-13 12:56:05,560 INFO]  * tgt vocab size: 50004.\n",
            "[2020-08-13 12:56:05,876 INFO]  * src vocab size: 50002.\n",
            "[2020-08-13 12:56:06,395 INFO] Building & saving validation data...\n",
            "[2020-08-13 12:56:06,826 INFO] Building shard 0.\n",
            "[2020-08-13 12:56:07,182 INFO]  * saving 0th valid data shard to /content/data/datum.valid.0.pt.\n"
          ],
          "name": "stdout"
        }
      ]
    },
    {
      "cell_type": "code",
      "metadata": {
        "id": "PeP9H_uLvBIp",
        "colab_type": "code",
        "colab": {
          "base_uri": "https://localhost:8080/",
          "height": 1000
        },
        "outputId": "218fd49d-5f99-4c2d-c227-4412c87beba9"
      },
      "source": [
        "!python /content/OpenNMT-py/train.py -gpu_ranks 0 \\\n",
        "      -batch_size 64 \\\n",
        "      -rnn_type LSTM \\\n",
        "      -rnn_size 200 \\\n",
        "      -data /content/data/datum \\\n",
        "      -save_model /content/model/model_gr20 "
      ],
      "execution_count": 8,
      "outputs": [
        {
          "output_type": "stream",
          "text": [
            "[2020-08-13 12:56:13,122 INFO]  * src vocab size = 50002\n",
            "[2020-08-13 12:56:13,122 INFO]  * tgt vocab size = 50004\n",
            "[2020-08-13 12:56:13,122 INFO] Building model...\n",
            "[2020-08-13 12:56:17,840 INFO] NMTModel(\n",
            "  (encoder): RNNEncoder(\n",
            "    (embeddings): Embeddings(\n",
            "      (make_embedding): Sequential(\n",
            "        (emb_luts): Elementwise(\n",
            "          (0): Embedding(50002, 500, padding_idx=1)\n",
            "        )\n",
            "      )\n",
            "    )\n",
            "    (rnn): LSTM(500, 200, num_layers=2, dropout=0.3)\n",
            "  )\n",
            "  (decoder): InputFeedRNNDecoder(\n",
            "    (embeddings): Embeddings(\n",
            "      (make_embedding): Sequential(\n",
            "        (emb_luts): Elementwise(\n",
            "          (0): Embedding(50004, 500, padding_idx=1)\n",
            "        )\n",
            "      )\n",
            "    )\n",
            "    (dropout): Dropout(p=0.3, inplace=False)\n",
            "    (rnn): StackedLSTM(\n",
            "      (dropout): Dropout(p=0.3, inplace=False)\n",
            "      (layers): ModuleList(\n",
            "        (0): LSTMCell(700, 200)\n",
            "        (1): LSTMCell(200, 200)\n",
            "      )\n",
            "    )\n",
            "    (attn): GlobalAttention(\n",
            "      (linear_in): Linear(in_features=200, out_features=200, bias=False)\n",
            "      (linear_out): Linear(in_features=400, out_features=200, bias=False)\n",
            "    )\n",
            "  )\n",
            "  (generator): Sequential(\n",
            "    (0): Linear(in_features=200, out_features=50004, bias=True)\n",
            "    (1): Cast()\n",
            "    (2): LogSoftmax()\n",
            "  )\n",
            ")\n",
            "[2020-08-13 12:56:17,841 INFO] encoder: 25884200\n",
            "[2020-08-13 12:56:17,841 INFO] decoder: 36216004\n",
            "[2020-08-13 12:56:17,841 INFO] * number of parameters: 62100204\n",
            "[2020-08-13 12:56:17,842 INFO] Starting training on GPU: [0]\n",
            "[2020-08-13 12:56:17,842 INFO] Start training loop and validate every 10000 steps...\n",
            "[2020-08-13 12:56:17,842 INFO] Loading dataset from /content/data/datum.train.0.pt\n",
            "[2020-08-13 12:56:20,570 INFO] number of examples: 163693\n",
            "[2020-08-13 12:56:25,740 INFO] Step 50/100000; acc:   4.18; ppl: 73015.71; xent: 11.20; lr: 1.00000; 6580/9490 tok/s;      8 sec\n",
            "[2020-08-13 12:56:30,529 INFO] Step 100/100000; acc:   4.26; ppl: 5311.15; xent: 8.58; lr: 1.00000; 11314/16497 tok/s;     13 sec\n",
            "[2020-08-13 12:56:35,373 INFO] Step 150/100000; acc:   4.49; ppl: 2933.19; xent: 7.98; lr: 1.00000; 11129/16798 tok/s;     18 sec\n",
            "[2020-08-13 12:56:40,514 INFO] Step 200/100000; acc:   4.74; ppl: 2163.72; xent: 7.68; lr: 1.00000; 11329/16707 tok/s;     23 sec\n",
            "[2020-08-13 12:56:45,322 INFO] Step 250/100000; acc:   5.70; ppl: 1596.12; xent: 7.38; lr: 1.00000; 11580/16930 tok/s;     27 sec\n",
            "[2020-08-13 12:56:49,711 INFO] Step 300/100000; acc:   7.11; ppl: 1166.15; xent: 7.06; lr: 1.00000; 11476/16928 tok/s;     32 sec\n",
            "[2020-08-13 12:56:54,334 INFO] Step 350/100000; acc:   7.70; ppl: 993.62; xent: 6.90; lr: 1.00000; 11236/16719 tok/s;     36 sec\n",
            "[2020-08-13 12:56:58,895 INFO] Step 400/100000; acc:   8.22; ppl: 858.84; xent: 6.76; lr: 1.00000; 11775/17065 tok/s;     41 sec\n",
            "[2020-08-13 12:57:03,524 INFO] Step 450/100000; acc:   8.90; ppl: 766.61; xent: 6.64; lr: 1.00000; 11612/16556 tok/s;     46 sec\n",
            "\n"
          ],
          "name": "stdout"
        }
      ]
    },
    {
      "cell_type": "code",
      "metadata": {
        "id": "i26mkOAKw1CZ",
        "colab_type": "code",
        "colab": {}
      },
      "source": [
        "!python /content/OpenNMT-py/translate.py \\\n",
        "  -model /content/model/model_gr20_step_100000.pt\\ #this should be the best model in the model dir\n",
        "  -src /content/data/src-gr20-test.txt \\\n",
        "  -output /content/data/predict.txt \\  #this is the file I need to evaluate\n",
        "  -replace_unk -verbose"
      ],
      "execution_count": null,
      "outputs": []
    },
    {
      "cell_type": "code",
      "metadata": {
        "id": "qmu6EZysxr9J",
        "colab_type": "code",
        "colab": {}
      },
      "source": [
        "!perl /content/OpenNMT-py/tools/multi-bleu.perl /content/data/tgt-gr20-test.txt < /content/data/predict.txt"
      ],
      "execution_count": null,
      "outputs": []
    }
  ]
}