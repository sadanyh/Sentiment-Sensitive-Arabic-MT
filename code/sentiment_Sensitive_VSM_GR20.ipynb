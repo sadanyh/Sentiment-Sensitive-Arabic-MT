{
 "cells": [
  {
   "cell_type": "markdown",
   "metadata": {},
   "source": [
    "# Training source (Arabic) word embeddings (word2vect) with sentiment marker"
   ]
  },
  {
   "cell_type": "code",
   "execution_count": 1,
   "metadata": {},
   "outputs": [],
   "source": [
    "%matplotlib inline\n",
    "import numpy as np\n",
    "import os\n",
    "import pandas as pd"
   ]
  },
  {
   "cell_type": "code",
   "execution_count": 2,
   "metadata": {},
   "outputs": [],
   "source": [
    "AR = pd.read_excel(\"C:/Users/sadan/OneDrive/surrey/sentiment_proj/datasets/gr_20_all/grall_20_eng.xlsx\", encoding ='utf8')"
   ]
  },
  {
   "cell_type": "code",
   "execution_count": 5,
   "metadata": {},
   "outputs": [],
   "source": [
    "ar = AR.iloc[:, [0,1]]"
   ]
  },
  {
   "cell_type": "code",
   "execution_count": 6,
   "metadata": {},
   "outputs": [
    {
     "data": {
      "text/html": [
       "<div>\n",
       "<style scoped>\n",
       "    .dataframe tbody tr th:only-of-type {\n",
       "        vertical-align: middle;\n",
       "    }\n",
       "\n",
       "    .dataframe tbody tr th {\n",
       "        vertical-align: top;\n",
       "    }\n",
       "\n",
       "    .dataframe thead th {\n",
       "        text-align: right;\n",
       "    }\n",
       "</style>\n",
       "<table border=\"1\" class=\"dataframe\">\n",
       "  <thead>\n",
       "    <tr style=\"text-align: right;\">\n",
       "      <th></th>\n",
       "      <th>عزازيل الذي صنعناه الكامن في انفسنا يذكرني يوسف زيدان ب بورخس في استخدامه لحيلته الفنيهوخداع القاريء بان الروايه ترجمه لمخطوط</th>\n",
       "      <th>Azazel, who made it that resides in ourselves, reminds me of Yusef Zidan B Borges in his use of his artistic trick and deceiving the reader that the novel translated it into a manuscript.</th>\n",
       "    </tr>\n",
       "  </thead>\n",
       "  <tbody>\n",
       "    <tr>\n",
       "      <th>0</th>\n",
       "      <td>قديم الهوامش المخترعه و اختلاق وجود مترجم عاد ...</td>\n",
       "      <td>Old invented margins and the creation of an in...</td>\n",
       "    </tr>\n",
       "    <tr>\n",
       "      <th>1</th>\n",
       "      <td>زيدان وهو عبقري في السرد ويخلق جوا ساحرا متفرد...</td>\n",
       "      <td>Zidane, who is a genius in the narration and c...</td>\n",
       "    </tr>\n",
       "    <tr>\n",
       "      <th>2</th>\n",
       "      <td>ربما تم تناول فكره الروايه قبلا ولكن هنا تفردا...</td>\n",
       "      <td>Perhaps the idea of ​​the novel was dealt with...</td>\n",
       "    </tr>\n",
       "    <tr>\n",
       "      <th>3</th>\n",
       "      <td>بطريقه مختلفه فقد جاءت بارده لا تتناسب مع رواي...</td>\n",
       "      <td>In a different way, it came cold and did not m...</td>\n",
       "    </tr>\n",
       "    <tr>\n",
       "      <th>4</th>\n",
       "      <td>وان كانت تجربه قرائيه متفرده وممتعه</td>\n",
       "      <td>And if it was a unique and enjoyable reading e...</td>\n",
       "    </tr>\n",
       "  </tbody>\n",
       "</table>\n",
       "</div>"
      ],
      "text/plain": [
       "  عزازيل الذي صنعناه الكامن في انفسنا يذكرني يوسف زيدان ب بورخس في استخدامه لحيلته الفنيهوخداع القاريء بان الروايه ترجمه لمخطوط  \\\n",
       "0  قديم الهوامش المخترعه و اختلاق وجود مترجم عاد ...                                                                              \n",
       "1  زيدان وهو عبقري في السرد ويخلق جوا ساحرا متفرد...                                                                              \n",
       "2  ربما تم تناول فكره الروايه قبلا ولكن هنا تفردا...                                                                              \n",
       "3  بطريقه مختلفه فقد جاءت بارده لا تتناسب مع رواي...                                                                              \n",
       "4                وان كانت تجربه قرائيه متفرده وممتعه                                                                              \n",
       "\n",
       "  Azazel, who made it that resides in ourselves, reminds me of Yusef Zidan B Borges in his use of his artistic trick and deceiving the reader that the novel translated it into a manuscript.  \n",
       "0  Old invented margins and the creation of an in...                                                                                                                                           \n",
       "1  Zidane, who is a genius in the narration and c...                                                                                                                                           \n",
       "2  Perhaps the idea of ​​the novel was dealt with...                                                                                                                                           \n",
       "3  In a different way, it came cold and did not m...                                                                                                                                           \n",
       "4  And if it was a unique and enjoyable reading e...                                                                                                                                           "
      ]
     },
     "execution_count": 6,
     "metadata": {},
     "output_type": "execute_result"
    }
   ],
   "source": [
    "ar.head()"
   ]
  },
  {
   "cell_type": "code",
   "execution_count": 7,
   "metadata": {},
   "outputs": [],
   "source": [
    "ar.columns = ['sr','tg']"
   ]
  },
  {
   "cell_type": "code",
   "execution_count": 8,
   "metadata": {},
   "outputs": [
    {
     "data": {
      "text/html": [
       "<div>\n",
       "<style scoped>\n",
       "    .dataframe tbody tr th:only-of-type {\n",
       "        vertical-align: middle;\n",
       "    }\n",
       "\n",
       "    .dataframe tbody tr th {\n",
       "        vertical-align: top;\n",
       "    }\n",
       "\n",
       "    .dataframe thead th {\n",
       "        text-align: right;\n",
       "    }\n",
       "</style>\n",
       "<table border=\"1\" class=\"dataframe\">\n",
       "  <thead>\n",
       "    <tr style=\"text-align: right;\">\n",
       "      <th></th>\n",
       "      <th>sr</th>\n",
       "      <th>tg</th>\n",
       "    </tr>\n",
       "  </thead>\n",
       "  <tbody>\n",
       "    <tr>\n",
       "      <th>0</th>\n",
       "      <td>قديم الهوامش المخترعه و اختلاق وجود مترجم عاد ...</td>\n",
       "      <td>Old invented margins and the creation of an in...</td>\n",
       "    </tr>\n",
       "    <tr>\n",
       "      <th>1</th>\n",
       "      <td>زيدان وهو عبقري في السرد ويخلق جوا ساحرا متفرد...</td>\n",
       "      <td>Zidane, who is a genius in the narration and c...</td>\n",
       "    </tr>\n",
       "    <tr>\n",
       "      <th>2</th>\n",
       "      <td>ربما تم تناول فكره الروايه قبلا ولكن هنا تفردا...</td>\n",
       "      <td>Perhaps the idea of ​​the novel was dealt with...</td>\n",
       "    </tr>\n",
       "    <tr>\n",
       "      <th>3</th>\n",
       "      <td>بطريقه مختلفه فقد جاءت بارده لا تتناسب مع رواي...</td>\n",
       "      <td>In a different way, it came cold and did not m...</td>\n",
       "    </tr>\n",
       "    <tr>\n",
       "      <th>4</th>\n",
       "      <td>وان كانت تجربه قرائيه متفرده وممتعه</td>\n",
       "      <td>And if it was a unique and enjoyable reading e...</td>\n",
       "    </tr>\n",
       "  </tbody>\n",
       "</table>\n",
       "</div>"
      ],
      "text/plain": [
       "                                                  sr  \\\n",
       "0  قديم الهوامش المخترعه و اختلاق وجود مترجم عاد ...   \n",
       "1  زيدان وهو عبقري في السرد ويخلق جوا ساحرا متفرد...   \n",
       "2  ربما تم تناول فكره الروايه قبلا ولكن هنا تفردا...   \n",
       "3  بطريقه مختلفه فقد جاءت بارده لا تتناسب مع رواي...   \n",
       "4                وان كانت تجربه قرائيه متفرده وممتعه   \n",
       "\n",
       "                                                  tg  \n",
       "0  Old invented margins and the creation of an in...  \n",
       "1  Zidane, who is a genius in the narration and c...  \n",
       "2  Perhaps the idea of ​​the novel was dealt with...  \n",
       "3  In a different way, it came cold and did not m...  \n",
       "4  And if it was a unique and enjoyable reading e...  "
      ]
     },
     "execution_count": 8,
     "metadata": {},
     "output_type": "execute_result"
    }
   ],
   "source": [
    "ar.head()"
   ]
  },
  {
   "cell_type": "raw",
   "metadata": {},
   "source": [
    "ar.isnull().sum()"
   ]
  },
  {
   "cell_type": "code",
   "execution_count": 10,
   "metadata": {},
   "outputs": [
    {
     "data": {
      "text/html": [
       "<div>\n",
       "<style scoped>\n",
       "    .dataframe tbody tr th:only-of-type {\n",
       "        vertical-align: middle;\n",
       "    }\n",
       "\n",
       "    .dataframe tbody tr th {\n",
       "        vertical-align: top;\n",
       "    }\n",
       "\n",
       "    .dataframe thead th {\n",
       "        text-align: right;\n",
       "    }\n",
       "</style>\n",
       "<table border=\"1\" class=\"dataframe\">\n",
       "  <thead>\n",
       "    <tr style=\"text-align: right;\">\n",
       "      <th></th>\n",
       "      <th>sr</th>\n",
       "      <th>tg</th>\n",
       "    </tr>\n",
       "  </thead>\n",
       "  <tbody>\n",
       "    <tr>\n",
       "      <th>0</th>\n",
       "      <td>قديم الهوامش المخترعه و اختلاق وجود مترجم عاد ...</td>\n",
       "      <td>Old invented margins and the creation of an in...</td>\n",
       "    </tr>\n",
       "    <tr>\n",
       "      <th>1</th>\n",
       "      <td>زيدان وهو عبقري في السرد ويخلق جوا ساحرا متفرد...</td>\n",
       "      <td>Zidane, who is a genius in the narration and c...</td>\n",
       "    </tr>\n",
       "    <tr>\n",
       "      <th>2</th>\n",
       "      <td>ربما تم تناول فكره الروايه قبلا ولكن هنا تفردا...</td>\n",
       "      <td>Perhaps the idea of ​​the novel was dealt with...</td>\n",
       "    </tr>\n",
       "    <tr>\n",
       "      <th>3</th>\n",
       "      <td>بطريقه مختلفه فقد جاءت بارده لا تتناسب مع رواي...</td>\n",
       "      <td>In a different way, it came cold and did not m...</td>\n",
       "    </tr>\n",
       "    <tr>\n",
       "      <th>4</th>\n",
       "      <td>وان كانت تجربه قرائيه متفرده وممتعه</td>\n",
       "      <td>And if it was a unique and enjoyable reading e...</td>\n",
       "    </tr>\n",
       "    <tr>\n",
       "      <th>5</th>\n",
       "      <td>من امتع ما قرات من روايات بلا شك وحول الشك تدن...</td>\n",
       "      <td>One of the most interesting novels I read with...</td>\n",
       "    </tr>\n",
       "    <tr>\n",
       "      <th>6</th>\n",
       "      <td>روايه تتخذ من التاريخ جوا لها اختار المءلف فتر...</td>\n",
       "      <td>A novel based on history, which has an air for...</td>\n",
       "    </tr>\n",
       "    <tr>\n",
       "      <th>7</th>\n",
       "      <td>يمكن ان تقرا من الروايات التاريخيه تركز علي ال...</td>\n",
       "      <td>You can read from historical accounts focusing...</td>\n",
       "    </tr>\n",
       "    <tr>\n",
       "      <th>8</th>\n",
       "      <td>اني اقدر هذه الروايه كثيرا لسبب مختلف عن اسباب...</td>\n",
       "      <td>I appreciate this narration a lot for a differ...</td>\n",
       "    </tr>\n",
       "    <tr>\n",
       "      <th>9</th>\n",
       "      <td>قد اتت بعد فوات الاوان وذلك عهدنا بدروس الحياه...</td>\n",
       "      <td>It has come too late and that is our pledge to...</td>\n",
       "    </tr>\n",
       "    <tr>\n",
       "      <th>10</th>\n",
       "      <td>اشاره الي المقاطع الاباحيه التي هي فيها هو حتم...</td>\n",
       "      <td>Referring to pornographic clips where she is, ...</td>\n",
       "    </tr>\n",
       "    <tr>\n",
       "      <th>11</th>\n",
       "      <td>واقول لكم فلتاتوا وتحاسبوني ان خجل صديقكم ذاك ...</td>\n",
       "      <td>I tell you, come and hold me accountable if yo...</td>\n",
       "    </tr>\n",
       "    <tr>\n",
       "      <th>12</th>\n",
       "      <td>جدا  توقفت عن قراءه الروايه لما بدا مستواها ال...</td>\n",
       "      <td>I stopped reading the novel when its moral lev...</td>\n",
       "    </tr>\n",
       "    <tr>\n",
       "      <th>13</th>\n",
       "      <td>فلالتمس بعض المواساه في ماساتي بقراءه شيء من ا...</td>\n",
       "      <td>Let us seek some sympathy in my masate by read...</td>\n",
       "    </tr>\n",
       "    <tr>\n",
       "      <th>14</th>\n",
       "      <td>الصدمه الثانيه  اغلب التقييمات نجوم خمس او ارب...</td>\n",
       "      <td>The second shock, most of the ratings, are at ...</td>\n",
       "    </tr>\n",
       "    <tr>\n",
       "      <th>15</th>\n",
       "      <td>بحد ذاتها اذ تري معظم كاتبيها بين مادح للاسلوب...</td>\n",
       "      <td>As such, you see most of its writers between p...</td>\n",
       "    </tr>\n",
       "    <tr>\n",
       "      <th>16</th>\n",
       "      <td>كلها دفعه واحده  وان تكرم احدهم فهو يذيل تعليق...</td>\n",
       "      <td>All of them all at once, and if you honor one ...</td>\n",
       "    </tr>\n",
       "    <tr>\n",
       "      <th>17</th>\n",
       "      <td>والسلام خاتمه مدهشه تكلمت فاوجزت فاوصلت فافدت ...</td>\n",
       "      <td>Peace is an amazing ring. I spoke, I summarize...</td>\n",
       "    </tr>\n",
       "    <tr>\n",
       "      <th>18</th>\n",
       "      <td>من ارائكم جمله صغيره في نهايه الكلام او جمله ا...</td>\n",
       "      <td>Who do you think is a small sentence at the en...</td>\n",
       "    </tr>\n",
       "    <tr>\n",
       "      <th>19</th>\n",
       "      <td>والحبكه وغير ذلك فحش كثير من الصفحات  وهل تشفع...</td>\n",
       "      <td>The weaving and other things are obscene and m...</td>\n",
       "    </tr>\n",
       "    <tr>\n",
       "      <th>20</th>\n",
       "      <td>والله ان امركم عجيب انظروا لانفسكم باي ميزان ...</td>\n",
       "      <td>By God, your command is strange. Look at yours...</td>\n",
       "    </tr>\n",
       "    <tr>\n",
       "      <th>21</th>\n",
       "      <td>حق الفن النقي الراقي الهادف واهانه له  حتي وان...</td>\n",
       "      <td>The right to pure, purposeful, sophisticated a...</td>\n",
       "    </tr>\n",
       "    <tr>\n",
       "      <th>22</th>\n",
       "      <td>الا تمنحوها تقييما عاليا لانكم بذلك تروجون لها...</td>\n",
       "      <td>Don't you give her a high rating because you a...</td>\n",
       "    </tr>\n",
       "    <tr>\n",
       "      <th>23</th>\n",
       "      <td>رميه في اقرب سله نفايات  هذه اكثر نقطه رفعت ضغ...</td>\n",
       "      <td>Throwing it in the nearest waste bin This is t...</td>\n",
       "    </tr>\n",
       "    <tr>\n",
       "      <th>24</th>\n",
       "      <td>الف الروايه ولم يترجمها لا ادري في الحقيقه باي...</td>\n",
       "      <td>A thousand stories, and I have not translated ...</td>\n",
       "    </tr>\n",
       "    <tr>\n",
       "      <th>25</th>\n",
       "      <td>اراء تلصق صفه الابداع بتلك الحركه وصفه العبقري...</td>\n",
       "      <td>Opinions attribute creativity to that movement...</td>\n",
       "    </tr>\n",
       "    <tr>\n",
       "      <th>26</th>\n",
       "      <td>هو كذب متقن نجح فيه كثيرا لما نقل حتي الحواشي...</td>\n",
       "      <td>It is an elaborate lie that succeeded a lot wh...</td>\n",
       "    </tr>\n",
       "    <tr>\n",
       "      <th>27</th>\n",
       "      <td>الرقوق  كل هذا الخداع والمكر وادعاء قصه لم تحد...</td>\n",
       "      <td>The parchment is all this deception and cunnin...</td>\n",
       "    </tr>\n",
       "    <tr>\n",
       "      <th>28</th>\n",
       "      <td>ما ذنبهم حين يصدقون المكتوب ثم يصعقون بكون الا...</td>\n",
       "      <td>What is their fault when they believe the book...</td>\n",
       "    </tr>\n",
       "    <tr>\n",
       "      <th>29</th>\n",
       "      <td>بعد حركه سخيفه مثل تلك  ثم المصيبه ان تجد من ي...</td>\n",
       "      <td>After a ridiculous movement like that and then...</td>\n",
       "    </tr>\n",
       "    <tr>\n",
       "      <th>...</th>\n",
       "      <td>...</td>\n",
       "      <td>...</td>\n",
       "    </tr>\n",
       "    <tr>\n",
       "      <th>227379</th>\n",
       "      <td>هذه</td>\n",
       "      <td>this is</td>\n",
       "    </tr>\n",
       "    <tr>\n",
       "      <th>227380</th>\n",
       "      <td>روايه اكثر من رائعه ! لا اصدق انني اغفلت روائع...</td>\n",
       "      <td>More than a wonderful novel! I can't believe I...</td>\n",
       "    </tr>\n",
       "    <tr>\n",
       "      <th>227381</th>\n",
       "      <td>ماساه ماساه ماساه ماساه بما تحمله الكلمه من مع...</td>\n",
       "      <td>A tragedy, a tragedy, a tragedy, a tragedy, wi...</td>\n",
       "    </tr>\n",
       "    <tr>\n",
       "      <th>227382</th>\n",
       "      <td>روايه جميله . اثار انتباهي فيها سرعه اتخاذ هام...</td>\n",
       "      <td>Nice story. It caught my attention in it, quic...</td>\n",
       "    </tr>\n",
       "    <tr>\n",
       "      <th>227383</th>\n",
       "      <td>طريق التفكير قبل وضع خطه فراره من القتل علي يد...</td>\n",
       "      <td>The way of thinking before laying out a plan t...</td>\n",
       "    </tr>\n",
       "    <tr>\n",
       "      <th>227384</th>\n",
       "      <td>يشعر بمدي حقارتها و تضرعه للرب لا يتماشي و شخص...</td>\n",
       "      <td>He feels how despicable his supplication is to...</td>\n",
       "    </tr>\n",
       "    <tr>\n",
       "      <th>227385</th>\n",
       "      <td>مسرحيه رائعه اخري من مسرحيات شكسبير، ولو انها ...</td>\n",
       "      <td>Another great play is from Shakespeare's plays...</td>\n",
       "    </tr>\n",
       "    <tr>\n",
       "      <th>227386</th>\n",
       "      <td>الي الشعر، بل هي شعر منثور! . حبكه القصه، لا ب...</td>\n",
       "      <td>To the hair, but it is scattered hair! . The s...</td>\n",
       "    </tr>\n",
       "    <tr>\n",
       "      <th>227387</th>\n",
       "      <td>كثيره الماساويه وكثيره الالم ، النهايه صعبه جد...</td>\n",
       "      <td>Tragic and very painful, the ending is very di...</td>\n",
       "    </tr>\n",
       "    <tr>\n",
       "      <th>227388</th>\n",
       "      <td>في بعض المواضع باللغه العاميه الشاميه</td>\n",
       "      <td>In some places in the vernacular slang</td>\n",
       "    </tr>\n",
       "    <tr>\n",
       "      <th>227389</th>\n",
       "      <td>يقدم شكسبير تقنيه لم يسبقه اليها احد وهي تقنيه...</td>\n",
       "      <td>Shakespeare presents a technique that no one p...</td>\n",
       "    </tr>\n",
       "    <tr>\n",
       "      <th>227390</th>\n",
       "      <td>مشهد مقتل والده كما رواه له الشبح ليري رده فعل...</td>\n",
       "      <td>The scene of his father’s murder, as narrated ...</td>\n",
       "    </tr>\n",
       "    <tr>\n",
       "      <th>227391</th>\n",
       "      <td>فلسفه بودن يا نبودنمان هم هنوز نيست.عجبا!</td>\n",
       "      <td>Bodden's philosophy, Nebodenman, is Hennes Nest.</td>\n",
       "    </tr>\n",
       "    <tr>\n",
       "      <th>227392</th>\n",
       "      <td>حينما يدعي هملت الجنون يكون اكثر حكمه</td>\n",
       "      <td>When he claims to neglect madness, he becomes ...</td>\n",
       "    </tr>\n",
       "    <tr>\n",
       "      <th>227393</th>\n",
       "      <td>اجمل مسرحيه الفت في تاريخ الادب الانجليزي</td>\n",
       "      <td>The most beautiful play in the history of Engl...</td>\n",
       "    </tr>\n",
       "    <tr>\n",
       "      <th>227394</th>\n",
       "      <td>بصراحه، لم تكن هذه الروايه علي قدر توقعاتي. ال...</td>\n",
       "      <td>To be honest, this version was not up to my ex...</td>\n",
       "    </tr>\n",
       "    <tr>\n",
       "      <th>227395</th>\n",
       "      <td>عوده بالذاكره الي الوراء من مقعد الطائره. لذا ...</td>\n",
       "      <td>Think back from the plane seat. So the narrati...</td>\n",
       "    </tr>\n",
       "    <tr>\n",
       "      <th>227396</th>\n",
       "      <td>وكانها توثق التراث، لا تقص للتشويق والابهار، ف...</td>\n",
       "      <td>As if documenting heritage, not telling of sus...</td>\n",
       "    </tr>\n",
       "    <tr>\n",
       "      <th>227397</th>\n",
       "      <td>الروايات العربيه. وحقيقه، صدمت لما الت اليه اح...</td>\n",
       "      <td>Arabic novels. In fact, I was shocked by the e...</td>\n",
       "    </tr>\n",
       "    <tr>\n",
       "      <th>227398</th>\n",
       "      <td>الارياف الجبليه القديمه اطارا لسردها.</td>\n",
       "      <td>Old mountain countryside as a framework to list.</td>\n",
       "    </tr>\n",
       "    <tr>\n",
       "      <th>227399</th>\n",
       "      <td>هي الروايه الاولي التي قراتها لايميلي نصر الله...</td>\n",
       "      <td>It is the first novel that I read for Emily Na...</td>\n",
       "    </tr>\n",
       "    <tr>\n",
       "      <th>227400</th>\n",
       "      <td>او العلاقات المتشابكه بين شخصيات الروايه. هي ت...</td>\n",
       "      <td>Or the intertwined relationships between the c...</td>\n",
       "    </tr>\n",
       "    <tr>\n",
       "      <th>227401</th>\n",
       "      <td>كثيرا هو قدره ايميلي نصر الله علي الوصف الدقيق...</td>\n",
       "      <td>Much is Emily Nasrallah’s ability to accuratel...</td>\n",
       "    </tr>\n",
       "    <tr>\n",
       "      <th>227402</th>\n",
       "      <td>ذهني دافئه ومشرقه ونابضه بالحياه في القريه الل...</td>\n",
       "      <td>My mind is warm, bright, and vibrant in the Le...</td>\n",
       "    </tr>\n",
       "    <tr>\n",
       "      <th>227403</th>\n",
       "      <td>تدخل بيوت الناس، تدخل قلوبهم، تمد يدك تصافح ال...</td>\n",
       "      <td>You enter people's homes, you enter their hear...</td>\n",
       "    </tr>\n",
       "    <tr>\n",
       "      <th>227404</th>\n",
       "      <td>ثم يعود الغريب غريبا؛ ويرجع كل فرد الي ذاته، ح...</td>\n",
       "      <td>Then the stranger returns a stranger; And each...</td>\n",
       "    </tr>\n",
       "    <tr>\n",
       "      <th>227405</th>\n",
       "      <td>المضنيه.</td>\n",
       "      <td>Painstaking.</td>\n",
       "    </tr>\n",
       "    <tr>\n",
       "      <th>227406</th>\n",
       "      <td>لم ادرك معني العلاقات الخارجيه و البروتكولات ا...</td>\n",
       "      <td>I did not realize the meaning of external rela...</td>\n",
       "    </tr>\n",
       "    <tr>\n",
       "      <th>227407</th>\n",
       "      <td>للوضع العربي و القضيه الفلسطينه و اعتبار بلاده...</td>\n",
       "      <td>The Arab situation and the Palestinian issue, ...</td>\n",
       "    </tr>\n",
       "    <tr>\n",
       "      <th>227408</th>\n",
       "      <td>انهم انكروا هذا الجميل بكفاحهم ضد اليهود الذي ...</td>\n",
       "      <td>They denied this favor by their struggle again...</td>\n",
       "    </tr>\n",
       "  </tbody>\n",
       "</table>\n",
       "<p>227371 rows × 2 columns</p>\n",
       "</div>"
      ],
      "text/plain": [
       "                                                       sr  \\\n",
       "0       قديم الهوامش المخترعه و اختلاق وجود مترجم عاد ...   \n",
       "1       زيدان وهو عبقري في السرد ويخلق جوا ساحرا متفرد...   \n",
       "2       ربما تم تناول فكره الروايه قبلا ولكن هنا تفردا...   \n",
       "3       بطريقه مختلفه فقد جاءت بارده لا تتناسب مع رواي...   \n",
       "4                     وان كانت تجربه قرائيه متفرده وممتعه   \n",
       "5       من امتع ما قرات من روايات بلا شك وحول الشك تدن...   \n",
       "6       روايه تتخذ من التاريخ جوا لها اختار المءلف فتر...   \n",
       "7       يمكن ان تقرا من الروايات التاريخيه تركز علي ال...   \n",
       "8       اني اقدر هذه الروايه كثيرا لسبب مختلف عن اسباب...   \n",
       "9       قد اتت بعد فوات الاوان وذلك عهدنا بدروس الحياه...   \n",
       "10      اشاره الي المقاطع الاباحيه التي هي فيها هو حتم...   \n",
       "11      واقول لكم فلتاتوا وتحاسبوني ان خجل صديقكم ذاك ...   \n",
       "12      جدا  توقفت عن قراءه الروايه لما بدا مستواها ال...   \n",
       "13      فلالتمس بعض المواساه في ماساتي بقراءه شيء من ا...   \n",
       "14      الصدمه الثانيه  اغلب التقييمات نجوم خمس او ارب...   \n",
       "15      بحد ذاتها اذ تري معظم كاتبيها بين مادح للاسلوب...   \n",
       "16      كلها دفعه واحده  وان تكرم احدهم فهو يذيل تعليق...   \n",
       "17      والسلام خاتمه مدهشه تكلمت فاوجزت فاوصلت فافدت ...   \n",
       "18      من ارائكم جمله صغيره في نهايه الكلام او جمله ا...   \n",
       "19      والحبكه وغير ذلك فحش كثير من الصفحات  وهل تشفع...   \n",
       "20       والله ان امركم عجيب انظروا لانفسكم باي ميزان ...   \n",
       "21      حق الفن النقي الراقي الهادف واهانه له  حتي وان...   \n",
       "22      الا تمنحوها تقييما عاليا لانكم بذلك تروجون لها...   \n",
       "23      رميه في اقرب سله نفايات  هذه اكثر نقطه رفعت ضغ...   \n",
       "24      الف الروايه ولم يترجمها لا ادري في الحقيقه باي...   \n",
       "25      اراء تلصق صفه الابداع بتلك الحركه وصفه العبقري...   \n",
       "26       هو كذب متقن نجح فيه كثيرا لما نقل حتي الحواشي...   \n",
       "27      الرقوق  كل هذا الخداع والمكر وادعاء قصه لم تحد...   \n",
       "28      ما ذنبهم حين يصدقون المكتوب ثم يصعقون بكون الا...   \n",
       "29      بعد حركه سخيفه مثل تلك  ثم المصيبه ان تجد من ي...   \n",
       "...                                                   ...   \n",
       "227379                                                هذه   \n",
       "227380  روايه اكثر من رائعه ! لا اصدق انني اغفلت روائع...   \n",
       "227381  ماساه ماساه ماساه ماساه بما تحمله الكلمه من مع...   \n",
       "227382  روايه جميله . اثار انتباهي فيها سرعه اتخاذ هام...   \n",
       "227383  طريق التفكير قبل وضع خطه فراره من القتل علي يد...   \n",
       "227384  يشعر بمدي حقارتها و تضرعه للرب لا يتماشي و شخص...   \n",
       "227385  مسرحيه رائعه اخري من مسرحيات شكسبير، ولو انها ...   \n",
       "227386  الي الشعر، بل هي شعر منثور! . حبكه القصه، لا ب...   \n",
       "227387  كثيره الماساويه وكثيره الالم ، النهايه صعبه جد...   \n",
       "227388              في بعض المواضع باللغه العاميه الشاميه   \n",
       "227389  يقدم شكسبير تقنيه لم يسبقه اليها احد وهي تقنيه...   \n",
       "227390  مشهد مقتل والده كما رواه له الشبح ليري رده فعل...   \n",
       "227391          فلسفه بودن يا نبودنمان هم هنوز نيست.عجبا!   \n",
       "227392              حينما يدعي هملت الجنون يكون اكثر حكمه   \n",
       "227393          اجمل مسرحيه الفت في تاريخ الادب الانجليزي   \n",
       "227394  بصراحه، لم تكن هذه الروايه علي قدر توقعاتي. ال...   \n",
       "227395  عوده بالذاكره الي الوراء من مقعد الطائره. لذا ...   \n",
       "227396  وكانها توثق التراث، لا تقص للتشويق والابهار، ف...   \n",
       "227397  الروايات العربيه. وحقيقه، صدمت لما الت اليه اح...   \n",
       "227398              الارياف الجبليه القديمه اطارا لسردها.   \n",
       "227399  هي الروايه الاولي التي قراتها لايميلي نصر الله...   \n",
       "227400  او العلاقات المتشابكه بين شخصيات الروايه. هي ت...   \n",
       "227401  كثيرا هو قدره ايميلي نصر الله علي الوصف الدقيق...   \n",
       "227402  ذهني دافئه ومشرقه ونابضه بالحياه في القريه الل...   \n",
       "227403  تدخل بيوت الناس، تدخل قلوبهم، تمد يدك تصافح ال...   \n",
       "227404  ثم يعود الغريب غريبا؛ ويرجع كل فرد الي ذاته، ح...   \n",
       "227405                                           المضنيه.   \n",
       "227406  لم ادرك معني العلاقات الخارجيه و البروتكولات ا...   \n",
       "227407  للوضع العربي و القضيه الفلسطينه و اعتبار بلاده...   \n",
       "227408  انهم انكروا هذا الجميل بكفاحهم ضد اليهود الذي ...   \n",
       "\n",
       "                                                       tg  \n",
       "0       Old invented margins and the creation of an in...  \n",
       "1       Zidane, who is a genius in the narration and c...  \n",
       "2       Perhaps the idea of ​​the novel was dealt with...  \n",
       "3       In a different way, it came cold and did not m...  \n",
       "4       And if it was a unique and enjoyable reading e...  \n",
       "5       One of the most interesting novels I read with...  \n",
       "6       A novel based on history, which has an air for...  \n",
       "7       You can read from historical accounts focusing...  \n",
       "8       I appreciate this narration a lot for a differ...  \n",
       "9       It has come too late and that is our pledge to...  \n",
       "10      Referring to pornographic clips where she is, ...  \n",
       "11      I tell you, come and hold me accountable if yo...  \n",
       "12      I stopped reading the novel when its moral lev...  \n",
       "13      Let us seek some sympathy in my masate by read...  \n",
       "14      The second shock, most of the ratings, are at ...  \n",
       "15      As such, you see most of its writers between p...  \n",
       "16      All of them all at once, and if you honor one ...  \n",
       "17      Peace is an amazing ring. I spoke, I summarize...  \n",
       "18      Who do you think is a small sentence at the en...  \n",
       "19      The weaving and other things are obscene and m...  \n",
       "20      By God, your command is strange. Look at yours...  \n",
       "21      The right to pure, purposeful, sophisticated a...  \n",
       "22      Don't you give her a high rating because you a...  \n",
       "23      Throwing it in the nearest waste bin This is t...  \n",
       "24      A thousand stories, and I have not translated ...  \n",
       "25      Opinions attribute creativity to that movement...  \n",
       "26      It is an elaborate lie that succeeded a lot wh...  \n",
       "27      The parchment is all this deception and cunnin...  \n",
       "28      What is their fault when they believe the book...  \n",
       "29      After a ridiculous movement like that and then...  \n",
       "...                                                   ...  \n",
       "227379                                            this is  \n",
       "227380  More than a wonderful novel! I can't believe I...  \n",
       "227381  A tragedy, a tragedy, a tragedy, a tragedy, wi...  \n",
       "227382  Nice story. It caught my attention in it, quic...  \n",
       "227383  The way of thinking before laying out a plan t...  \n",
       "227384  He feels how despicable his supplication is to...  \n",
       "227385  Another great play is from Shakespeare's plays...  \n",
       "227386  To the hair, but it is scattered hair! . The s...  \n",
       "227387  Tragic and very painful, the ending is very di...  \n",
       "227388             In some places in the vernacular slang  \n",
       "227389  Shakespeare presents a technique that no one p...  \n",
       "227390  The scene of his father’s murder, as narrated ...  \n",
       "227391   Bodden's philosophy, Nebodenman, is Hennes Nest.  \n",
       "227392  When he claims to neglect madness, he becomes ...  \n",
       "227393  The most beautiful play in the history of Engl...  \n",
       "227394  To be honest, this version was not up to my ex...  \n",
       "227395  Think back from the plane seat. So the narrati...  \n",
       "227396  As if documenting heritage, not telling of sus...  \n",
       "227397  Arabic novels. In fact, I was shocked by the e...  \n",
       "227398   Old mountain countryside as a framework to list.  \n",
       "227399  It is the first novel that I read for Emily Na...  \n",
       "227400  Or the intertwined relationships between the c...  \n",
       "227401  Much is Emily Nasrallah’s ability to accuratel...  \n",
       "227402  My mind is warm, bright, and vibrant in the Le...  \n",
       "227403  You enter people's homes, you enter their hear...  \n",
       "227404  Then the stranger returns a stranger; And each...  \n",
       "227405                                       Painstaking.  \n",
       "227406  I did not realize the meaning of external rela...  \n",
       "227407  The Arab situation and the Palestinian issue, ...  \n",
       "227408  They denied this favor by their struggle again...  \n",
       "\n",
       "[227371 rows x 2 columns]"
      ]
     },
     "execution_count": 10,
     "metadata": {},
     "output_type": "execute_result"
    }
   ],
   "source": [
    "ar.dropna()"
   ]
  },
  {
   "cell_type": "code",
   "execution_count": 9,
   "metadata": {},
   "outputs": [],
   "source": [
    "from nltk import word_tokenize"
   ]
  },
  {
   "cell_type": "code",
   "execution_count": 16,
   "metadata": {},
   "outputs": [
    {
     "name": "stderr",
     "output_type": "stream",
     "text": [
      "C:\\Users\\sadan\\AppData\\Local\\Continuum\\anaconda3\\envs\\old_env\\lib\\site-packages\\pandas\\core\\indexing.py:630: SettingWithCopyWarning: \n",
      "A value is trying to be set on a copy of a slice from a DataFrame.\n",
      "Try using .loc[row_indexer,col_indexer] = value instead\n",
      "\n",
      "See the caveats in the documentation: http://pandas.pydata.org/pandas-docs/stable/indexing.html#indexing-view-versus-copy\n",
      "  self.obj[item_labels[indexer[info_axis]]] = value\n"
     ]
    }
   ],
   "source": [
    "ar.loc[:,'sr'] = ar.loc[:,'sr'].astype(str)"
   ]
  },
  {
   "cell_type": "code",
   "execution_count": 17,
   "metadata": {},
   "outputs": [
    {
     "name": "stderr",
     "output_type": "stream",
     "text": [
      "C:\\Users\\sadan\\AppData\\Local\\Continuum\\anaconda3\\envs\\old_env\\lib\\site-packages\\ipykernel_launcher.py:1: SettingWithCopyWarning: \n",
      "A value is trying to be set on a copy of a slice from a DataFrame.\n",
      "Try using .loc[row_indexer,col_indexer] = value instead\n",
      "\n",
      "See the caveats in the documentation: http://pandas.pydata.org/pandas-docs/stable/indexing.html#indexing-view-versus-copy\n",
      "  \"\"\"Entry point for launching an IPython kernel.\n"
     ]
    }
   ],
   "source": [
    "ar['sr_tok'] = ar.sr.apply(word_tokenize)"
   ]
  },
  {
   "cell_type": "code",
   "execution_count": 19,
   "metadata": {},
   "outputs": [
    {
     "data": {
      "text/plain": [
       "0         [قديم, الهوامش, المخترعه, و, اختلاق, وجود, متر...\n",
       "1         [زيدان, وهو, عبقري, في, السرد, ويخلق, جوا, ساح...\n",
       "2         [ربما, تم, تناول, فكره, الروايه, قبلا, ولكن, ه...\n",
       "3         [بطريقه, مختلفه, فقد, جاءت, بارده, لا, تتناسب,...\n",
       "4                [وان, كانت, تجربه, قرائيه, متفرده, وممتعه]\n",
       "5         [من, امتع, ما, قرات, من, روايات, بلا, شك, وحول...\n",
       "6         [روايه, تتخذ, من, التاريخ, جوا, لها, اختار, ال...\n",
       "7         [يمكن, ان, تقرا, من, الروايات, التاريخيه, تركز...\n",
       "8         [اني, اقدر, هذه, الروايه, كثيرا, لسبب, مختلف, ...\n",
       "9         [قد, اتت, بعد, فوات, الاوان, وذلك, عهدنا, بدرو...\n",
       "10        [اشاره, الي, المقاطع, الاباحيه, التي, هي, فيها...\n",
       "11        [واقول, لكم, فلتاتوا, وتحاسبوني, ان, خجل, صديق...\n",
       "12        [جدا, توقفت, عن, قراءه, الروايه, لما, بدا, مست...\n",
       "13        [فلالتمس, بعض, المواساه, في, ماساتي, بقراءه, ش...\n",
       "14        [الصدمه, الثانيه, اغلب, التقييمات, نجوم, خمس, ...\n",
       "15        [بحد, ذاتها, اذ, تري, معظم, كاتبيها, بين, مادح...\n",
       "16        [كلها, دفعه, واحده, وان, تكرم, احدهم, فهو, يذي...\n",
       "17        [والسلام, خاتمه, مدهشه, تكلمت, فاوجزت, فاوصلت,...\n",
       "18        [من, ارائكم, جمله, صغيره, في, نهايه, الكلام, ا...\n",
       "19        [والحبكه, وغير, ذلك, فحش, كثير, من, الصفحات, و...\n",
       "20        [والله, ان, امركم, عجيب, انظروا, لانفسكم, باي,...\n",
       "21        [حق, الفن, النقي, الراقي, الهادف, واهانه, له, ...\n",
       "22        [الا, تمنحوها, تقييما, عاليا, لانكم, بذلك, ترو...\n",
       "23        [رميه, في, اقرب, سله, نفايات, هذه, اكثر, نقطه,...\n",
       "24        [الف, الروايه, ولم, يترجمها, لا, ادري, في, الح...\n",
       "25        [اراء, تلصق, صفه, الابداع, بتلك, الحركه, وصفه,...\n",
       "26        [هو, كذب, متقن, نجح, فيه, كثيرا, لما, نقل, حتي...\n",
       "27        [الرقوق, كل, هذا, الخداع, والمكر, وادعاء, قصه,...\n",
       "28        [ما, ذنبهم, حين, يصدقون, المكتوب, ثم, يصعقون, ...\n",
       "29        [بعد, حركه, سخيفه, مثل, تلك, ثم, المصيبه, ان, ...\n",
       "                                ...                        \n",
       "227379                                                [هذه]\n",
       "227380    [روايه, اكثر, من, رائعه, !, لا, اصدق, انني, اغ...\n",
       "227381    [ماساه, ماساه, ماساه, ماساه, بما, تحمله, الكلم...\n",
       "227382    [روايه, جميله, ., اثار, انتباهي, فيها, سرعه, ا...\n",
       "227383    [طريق, التفكير, قبل, وضع, خطه, فراره, من, القت...\n",
       "227384    [يشعر, بمدي, حقارتها, و, تضرعه, للرب, لا, يتما...\n",
       "227385    [مسرحيه, رائعه, اخري, من, مسرحيات, شكسبير،, ول...\n",
       "227386    [الي, الشعر،, بل, هي, شعر, منثور, !, ., حبكه, ...\n",
       "227387    [كثيره, الماساويه, وكثيره, الالم, ،, النهايه, ...\n",
       "227388         [في, بعض, المواضع, باللغه, العاميه, الشاميه]\n",
       "227389    [يقدم, شكسبير, تقنيه, لم, يسبقه, اليها, احد, و...\n",
       "227390    [مشهد, مقتل, والده, كما, رواه, له, الشبح, ليري...\n",
       "227391    [فلسفه, بودن, يا, نبودنمان, هم, هنوز, نيست.عجب...\n",
       "227392        [حينما, يدعي, هملت, الجنون, يكون, اكثر, حكمه]\n",
       "227393    [اجمل, مسرحيه, الفت, في, تاريخ, الادب, الانجليزي]\n",
       "227394    [بصراحه،, لم, تكن, هذه, الروايه, علي, قدر, توق...\n",
       "227395    [عوده, بالذاكره, الي, الوراء, من, مقعد, الطائر...\n",
       "227396    [وكانها, توثق, التراث،, لا, تقص, للتشويق, والا...\n",
       "227397    [الروايات, العربيه, ., وحقيقه،, صدمت, لما, الت...\n",
       "227398        [الارياف, الجبليه, القديمه, اطارا, لسردها, .]\n",
       "227399    [هي, الروايه, الاولي, التي, قراتها, لايميلي, ن...\n",
       "227400    [او, العلاقات, المتشابكه, بين, شخصيات, الروايه...\n",
       "227401    [كثيرا, هو, قدره, ايميلي, نصر, الله, علي, الوص...\n",
       "227402    [ذهني, دافئه, ومشرقه, ونابضه, بالحياه, في, الق...\n",
       "227403    [تدخل, بيوت, الناس،, تدخل, قلوبهم،, تمد, يدك, ...\n",
       "227404    [ثم, يعود, الغريب, غريبا؛, ويرجع, كل, فرد, الي...\n",
       "227405                                         [المضنيه, .]\n",
       "227406    [لم, ادرك, معني, العلاقات, الخارجيه, و, البروت...\n",
       "227407    [للوضع, العربي, و, القضيه, الفلسطينه, و, اعتبا...\n",
       "227408    [انهم, انكروا, هذا, الجميل, بكفاحهم, ضد, اليهو...\n",
       "Name: sr_tok, Length: 227409, dtype: object"
      ]
     },
     "execution_count": 19,
     "metadata": {},
     "output_type": "execute_result"
    }
   ],
   "source": [
    "ar['sr_tok']"
   ]
  },
  {
   "cell_type": "code",
   "execution_count": 20,
   "metadata": {},
   "outputs": [],
   "source": [
    "source_list= []\n",
    "for row in ar['sr_tok']:\n",
    "    source_list.append(row)"
   ]
  },
  {
   "cell_type": "code",
   "execution_count": 21,
   "metadata": {},
   "outputs": [
    {
     "name": "stderr",
     "output_type": "stream",
     "text": [
      "C:\\Users\\sadan\\AppData\\Local\\Continuum\\anaconda3\\envs\\old_env\\lib\\site-packages\\gensim\\utils.py:1197: UserWarning: detected Windows; aliasing chunkize to chunkize_serial\n",
      "  warnings.warn(\"detected Windows; aliasing chunkize to chunkize_serial\")\n"
     ]
    }
   ],
   "source": [
    "from gensim.models import Word2Vec"
   ]
  },
  {
   "cell_type": "code",
   "execution_count": 22,
   "metadata": {},
   "outputs": [
    {
     "name": "stdout",
     "output_type": "stream",
     "text": [
      "Word2Vec(vocab=51375, size=50, alpha=0.025)\n"
     ]
    }
   ],
   "source": [
    "# train model (emedding size 50, window 5, bow model,  hierarchical softmax, descending frequency order)\n",
    "model = Word2Vec(source_list, size=50, window=5, sg=0, hs =1, sorted_vocab= 1)\n",
    "# summarize the loaded model\n",
    "print(model)"
   ]
  },
  {
   "cell_type": "code",
   "execution_count": 23,
   "metadata": {},
   "outputs": [
    {
     "data": {
      "text/plain": [
       "array([ 0.34915686,  0.16272976, -0.4060507 ,  0.07962128, -0.36933312,\n",
       "       -0.09976304,  0.07001878,  0.2884763 , -0.21308443, -0.28541672,\n",
       "       -0.06785716,  0.11603835, -0.6861246 ,  0.5356565 , -0.18700884,\n",
       "        0.5654163 ,  0.28378248, -0.3354706 ,  0.51263165, -0.4126076 ,\n",
       "        0.05857268, -0.22990187,  0.10732721, -0.35751665,  0.8235188 ,\n",
       "        0.5950729 , -0.4649203 , -0.25349152, -0.16738495,  0.33454818,\n",
       "       -0.07853585, -0.10392088, -0.8696464 , -0.00867264, -0.0276936 ,\n",
       "        0.47109637,  0.14690307, -0.46539733, -0.53702873,  0.19261071,\n",
       "        0.31344205, -0.03320399,  0.15866677,  0.5492277 , -0.10785012,\n",
       "        0.12453907,  0.26426563, -0.47166035,  0.31141308, -0.01846025],\n",
       "      dtype=float32)"
      ]
     },
     "execution_count": 23,
     "metadata": {},
     "output_type": "execute_result"
    }
   ],
   "source": [
    "model.wv['رهيبه']"
   ]
  },
  {
   "cell_type": "code",
   "execution_count": 24,
   "metadata": {},
   "outputs": [
    {
     "data": {
      "text/plain": [
       "array([ 1.0649378 , -0.3091461 , -1.1910805 ,  0.22375138, -0.8204441 ,\n",
       "       -0.12897089, -0.74044347,  0.8165258 ,  0.388485  , -0.32498273,\n",
       "       -0.5162872 ,  0.6472027 , -0.05942679,  0.48351973, -0.31183586,\n",
       "       -0.03502176, -0.35207918,  0.17900853,  0.95213443,  0.35554874,\n",
       "       -0.18927187,  0.03740691, -0.24721639, -0.58220845,  0.8202157 ,\n",
       "        0.21186095, -0.02600738, -0.36006582,  0.6970968 , -0.01701027,\n",
       "        0.11943585,  0.02589655, -0.9437013 ,  0.4513825 , -0.44505376,\n",
       "        0.80756664, -0.37392315, -0.34364003, -0.2885974 ,  0.8074623 ,\n",
       "        0.10903538,  0.5126262 ,  0.67746156,  0.12472448, -0.788771  ,\n",
       "        0.5779166 , -1.4906386 , -0.41829428,  0.23136558, -0.3439189 ],\n",
       "      dtype=float32)"
      ]
     },
     "execution_count": 24,
     "metadata": {},
     "output_type": "execute_result"
    }
   ],
   "source": [
    "model.wv['رهيبه+']"
   ]
  },
  {
   "cell_type": "code",
   "execution_count": 25,
   "metadata": {},
   "outputs": [
    {
     "data": {
      "text/plain": [
       "'C:\\\\Users\\\\sadan\\\\OneDrive\\\\surrey\\\\sentiment_proj'"
      ]
     },
     "execution_count": 25,
     "metadata": {},
     "output_type": "execute_result"
    }
   ],
   "source": [
    "pwd"
   ]
  },
  {
   "cell_type": "code",
   "execution_count": 28,
   "metadata": {},
   "outputs": [
    {
     "name": "stdout",
     "output_type": "stream",
     "text": [
      "C:\\Users\\sadan\\OneDrive\\surrey\\sentiment_proj\\datasets\\gr_20_all\n"
     ]
    }
   ],
   "source": [
    "cd datasets/gr_20_all/"
   ]
  },
  {
   "cell_type": "code",
   "execution_count": 29,
   "metadata": {},
   "outputs": [
    {
     "name": "stderr",
     "output_type": "stream",
     "text": [
      "C:\\Users\\sadan\\AppData\\Local\\Continuum\\anaconda3\\envs\\old_env\\lib\\site-packages\\smart_open\\smart_open_lib.py:398: UserWarning: This function is deprecated, use smart_open.open instead. See the migration notes for details: https://github.com/RaRe-Technologies/smart_open/blob/master/README.rst#migrating-to-the-new-open-function\n",
      "  'See the migration notes for details: %s' % _MIGRATION_NOTES_URL\n"
     ]
    }
   ],
   "source": [
    "model.wv.save_word2vec_format('ar_gr20_vsm.txt', binary=False)"
   ]
  },
  {
   "cell_type": "markdown",
   "metadata": {},
   "source": [
    "# Creating VSM for English"
   ]
  },
  {
   "cell_type": "code",
   "execution_count": 30,
   "metadata": {},
   "outputs": [
    {
     "name": "stderr",
     "output_type": "stream",
     "text": [
      "C:\\Users\\sadan\\AppData\\Local\\Continuum\\anaconda3\\envs\\old_env\\lib\\site-packages\\ipykernel_launcher.py:1: SettingWithCopyWarning: \n",
      "A value is trying to be set on a copy of a slice from a DataFrame.\n",
      "Try using .loc[row_indexer,col_indexer] = value instead\n",
      "\n",
      "See the caveats in the documentation: http://pandas.pydata.org/pandas-docs/stable/indexing.html#indexing-view-versus-copy\n",
      "  \"\"\"Entry point for launching an IPython kernel.\n"
     ]
    }
   ],
   "source": [
    "ar['tg'] = ar.loc[:,'tg'].astype(str)"
   ]
  },
  {
   "cell_type": "code",
   "execution_count": 31,
   "metadata": {},
   "outputs": [
    {
     "name": "stderr",
     "output_type": "stream",
     "text": [
      "C:\\Users\\sadan\\AppData\\Local\\Continuum\\anaconda3\\envs\\old_env\\lib\\site-packages\\ipykernel_launcher.py:1: SettingWithCopyWarning: \n",
      "A value is trying to be set on a copy of a slice from a DataFrame.\n",
      "Try using .loc[row_indexer,col_indexer] = value instead\n",
      "\n",
      "See the caveats in the documentation: http://pandas.pydata.org/pandas-docs/stable/indexing.html#indexing-view-versus-copy\n",
      "  \"\"\"Entry point for launching an IPython kernel.\n"
     ]
    }
   ],
   "source": [
    "ar['tg_tok'] = ar.tg.apply(word_tokenize)"
   ]
  },
  {
   "cell_type": "code",
   "execution_count": 32,
   "metadata": {},
   "outputs": [
    {
     "data": {
      "text/plain": [
       "0         [Old, invented, margins, and, the, creation, o...\n",
       "1         [Zidane, ,, who, is, a, genius, in, the, narra...\n",
       "2         [Perhaps, the, idea, of, ​​the, novel, was, de...\n",
       "3         [In, a, different, way, ,, it, came, cold, and...\n",
       "4         [And, if, it, was, a, unique, and, enjoyable, ...\n",
       "5         [One, of, the, most, interesting, novels, I, r...\n",
       "6         [A, novel, based, on, history, ,, which, has, ...\n",
       "7         [You, can, read, from, historical, accounts, f...\n",
       "8         [I, appreciate, this, narration, a, lot, for, ...\n",
       "9         [It, has, come, too, late, and, that, is, our,...\n",
       "10        [Referring, to, pornographic, clips, where, sh...\n",
       "11        [I, tell, you, ,, come, and, hold, me, account...\n",
       "12        [I, stopped, reading, the, novel, when, its, m...\n",
       "13        [Let, us, seek, some, sympathy, in, my, masate...\n",
       "14        [The, second, shock, ,, most, of, the, ratings...\n",
       "15        [As, such, ,, you, see, most, of, its, writers...\n",
       "16        [All, of, them, all, at, once, ,, and, if, you...\n",
       "17        [Peace, is, an, amazing, ring, ., I, spoke, ,,...\n",
       "18        [Who, do, you, think, is, a, small, sentence, ...\n",
       "19        [The, weaving, and, other, things, are, obscen...\n",
       "20        [By, God, ,, your, command, is, strange, ., Lo...\n",
       "21        [The, right, to, pure, ,, purposeful, ,, sophi...\n",
       "22        [Do, n't, you, give, her, a, high, rating, bec...\n",
       "23        [Throwing, it, in, the, nearest, waste, bin, T...\n",
       "24        [A, thousand, stories, ,, and, I, have, not, t...\n",
       "25        [Opinions, attribute, creativity, to, that, mo...\n",
       "26        [It, is, an, elaborate, lie, that, succeeded, ...\n",
       "27        [The, parchment, is, all, this, deception, and...\n",
       "28        [What, is, their, fault, when, they, believe, ...\n",
       "29        [After, a, ridiculous, movement, like, that, a...\n",
       "                                ...                        \n",
       "227379                                           [this, is]\n",
       "227380    [More, than, a, wonderful, novel, !, I, ca, n'...\n",
       "227381    [A, tragedy, ,, a, tragedy, ,, a, tragedy, ,, ...\n",
       "227382    [Nice, story, ., It, caught, my, attention, in...\n",
       "227383    [The, way, of, thinking, before, laying, out, ...\n",
       "227384    [He, feels, how, despicable, his, supplication...\n",
       "227385    [Another, great, play, is, from, Shakespeare, ...\n",
       "227386    [To, the, hair, ,, but, it, is, scattered, hai...\n",
       "227387    [Tragic, and, very, painful, ,, the, ending, i...\n",
       "227388       [In, some, places, in, the, vernacular, slang]\n",
       "227389    [Shakespeare, presents, a, technique, that, no...\n",
       "227390    [The, scene, of, his, father, ’, s, murder, ,,...\n",
       "227391    [Bodden, 's, philosophy, ,, Nebodenman, ,, is,...\n",
       "227392    [When, he, claims, to, neglect, madness, ,, he...\n",
       "227393    [The, most, beautiful, play, in, the, history,...\n",
       "227394    [To, be, honest, ,, this, version, was, not, u...\n",
       "227395    [Think, back, from, the, plane, seat, ., So, t...\n",
       "227396    [As, if, documenting, heritage, ,, not, tellin...\n",
       "227397    [Arabic, novels, ., In, fact, ,, I, was, shock...\n",
       "227398    [Old, mountain, countryside, as, a, framework,...\n",
       "227399    [It, is, the, first, novel, that, I, read, for...\n",
       "227400    [Or, the, intertwined, relationships, between,...\n",
       "227401    [Much, is, Emily, Nasrallah, ’, s, ability, to...\n",
       "227402    [My, mind, is, warm, ,, bright, ,, and, vibran...\n",
       "227403    [You, enter, people, 's, homes, ,, you, enter,...\n",
       "227404    [Then, the, stranger, returns, a, stranger, ;,...\n",
       "227405                                     [Painstaking, .]\n",
       "227406    [I, did, not, realize, the, meaning, of, exter...\n",
       "227407    [The, Arab, situation, and, the, Palestinian, ...\n",
       "227408    [They, denied, this, favor, by, their, struggl...\n",
       "Name: tg_tok, Length: 227409, dtype: object"
      ]
     },
     "execution_count": 32,
     "metadata": {},
     "output_type": "execute_result"
    }
   ],
   "source": [
    "ar['tg_tok']"
   ]
  },
  {
   "cell_type": "code",
   "execution_count": 33,
   "metadata": {},
   "outputs": [],
   "source": [
    "tg_list= []\n",
    "for row in ar['tg_tok']:\n",
    "    tg_list.append(row)"
   ]
  },
  {
   "cell_type": "code",
   "execution_count": 34,
   "metadata": {},
   "outputs": [],
   "source": [
    "model_eng = Word2Vec(tg_list, size=50, window=5, sg=0, hs =1, sorted_vocab= 1)"
   ]
  },
  {
   "cell_type": "code",
   "execution_count": 35,
   "metadata": {},
   "outputs": [
    {
     "data": {
      "text/plain": [
       "array([-2.1036885 , -0.3734635 , -0.39106208, -0.18207683,  0.43510687,\n",
       "       -0.06838985, -1.483716  , -2.3508346 ,  0.01537987,  0.422317  ,\n",
       "        0.5312929 ,  0.5848779 ,  0.39253518,  0.49948055,  0.2974835 ,\n",
       "        1.7745187 , -0.80846536,  0.7474838 , -0.020507  ,  2.8816168 ,\n",
       "       -0.15479192,  0.8427019 ,  0.93962234, -0.5003817 , -1.5612106 ,\n",
       "       -0.752669  , -0.90480554,  1.2319031 , -0.743676  , -0.4257841 ,\n",
       "        0.7478416 , -1.2168087 , -0.11441643,  0.1975672 ,  1.6597784 ,\n",
       "       -0.8444598 ,  0.44184732,  0.5777116 , -1.5090756 , -1.1518947 ,\n",
       "       -0.23652558, -1.0143905 , -0.97538954, -0.8304526 , -0.4557967 ,\n",
       "       -0.8761677 ,  0.62556016,  0.0784585 , -0.5095831 , -0.96966535],\n",
       "      dtype=float32)"
      ]
     },
     "execution_count": 35,
     "metadata": {},
     "output_type": "execute_result"
    }
   ],
   "source": [
    "model_eng.wv['terrible']"
   ]
  },
  {
   "cell_type": "code",
   "execution_count": 36,
   "metadata": {},
   "outputs": [
    {
     "name": "stderr",
     "output_type": "stream",
     "text": [
      "C:\\Users\\sadan\\AppData\\Local\\Continuum\\anaconda3\\envs\\old_env\\lib\\site-packages\\smart_open\\smart_open_lib.py:398: UserWarning: This function is deprecated, use smart_open.open instead. See the migration notes for details: https://github.com/RaRe-Technologies/smart_open/blob/master/README.rst#migrating-to-the-new-open-function\n",
      "  'See the migration notes for details: %s' % _MIGRATION_NOTES_URL\n"
     ]
    }
   ],
   "source": [
    "model_eng.wv.save_word2vec_format('en_gr20_vsm.txt', binary=False)"
   ]
  },
  {
   "cell_type": "code",
   "execution_count": 37,
   "metadata": {},
   "outputs": [],
   "source": [
    "import shutil\n",
    "\n",
    "with open('all_embgr20.txt','wb') as wfd:\n",
    "    for f in ['ar_gr20_vsm.txt', 'en_gr20_vsm.txt']:\n",
    "        with open(f,'rb') as fd:\n",
    "            shutil.copyfileobj(fd, wfd)"
   ]
  },
  {
   "cell_type": "code",
   "execution_count": null,
   "metadata": {},
   "outputs": [],
   "source": []
  }
 ],
 "metadata": {
  "kernelspec": {
   "display_name": "Python [conda env:old_env] *",
   "language": "python",
   "name": "conda-env-old_env-py"
  },
  "language_info": {
   "codemirror_mode": {
    "name": "ipython",
    "version": 3
   },
   "file_extension": ".py",
   "mimetype": "text/x-python",
   "name": "python",
   "nbconvert_exporter": "python",
   "pygments_lexer": "ipython3",
   "version": "3.6.5"
  }
 },
 "nbformat": 4,
 "nbformat_minor": 2
}
