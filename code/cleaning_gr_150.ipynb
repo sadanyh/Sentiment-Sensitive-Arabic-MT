{
 "cells": [
  {
   "cell_type": "code",
   "execution_count": 26,
   "metadata": {},
   "outputs": [],
   "source": [
    "# coding=utf-8\n",
    "import re\n",
    "import string\n",
    "import sys\n",
    "import argparse\n",
    "\n",
    "arabic_punctuations = '''`÷×؛<>_()*&^%][ـ،/:\"؟.,'{}~¦+|!”…“–ـ'''\n",
    "english_punctuations = string.punctuation\n",
    "punctuations_list = arabic_punctuations + english_punctuations\n",
    "\n",
    "arabic_diacritics = re.compile(\"\"\"\n",
    "                             ّ    | # Tashdid\n",
    "                             َ    | # Fatha\n",
    "                             ً    | # Tanwin Fath\n",
    "                             ُ    | # Damma\n",
    "                             ٌ    | # Tanwin Damm\n",
    "                             ِ    | # Kasra\n",
    "                             ٍ    | # Tanwin Kasr\n",
    "                             ْ    | # Sukun\n",
    "                             ـ     # Tatwil/Kashida\n",
    "                         \"\"\", re.VERBOSE)\n",
    "\n",
    "\n",
    "def normalize_arabic(text):\n",
    "    text = re.sub(\"[إأآا]\", \"ا\", text) # the second char is the one used\n",
    "    text = re.sub(\"ى\", \"ي\", text) #the first char is the one that will be used\n",
    "    text = re.sub(\"ؤ\", \"ء\", text)\n",
    "    #text = re.sub(\"ئ\", \"ء\", text)\n",
    "    text = re.sub(\"ة\", \"ه\", text)\n",
    "    text = re.sub(\"گ\", \"ك\", text)\n",
    "    return text\n",
    "\n",
    "\n",
    "def remove_diacritics(text):\n",
    "    text = re.sub(arabic_diacritics, '', text)\n",
    "    return text\n",
    "\n",
    "\n",
    "def remove_punctuations(text):\n",
    "    translator = str.maketrans('', '', punctuations_list)\n",
    "    return text.translate(translator)\n",
    "\n",
    "\n",
    "def remove_repeating_char(text):\n",
    "    return re.sub(r'(.)\\1{2,}', r'\\1', text) #added {2,} to avoid taking double words out"
   ]
  },
  {
   "cell_type": "code",
   "execution_count": 27,
   "metadata": {},
   "outputs": [],
   "source": [
    "def clean(text):\n",
    "    return remove_diacritics(normalize_arabic(remove_repeating_char(remove_punctuations(text))))\n",
    "    "
   ]
  },
  {
   "cell_type": "code",
   "execution_count": 1,
   "metadata": {},
   "outputs": [],
   "source": [
    "import os\n",
    "DATA_HOME = os.chdir('C:\\\\Users\\\\sadan\\\\OneDrive\\\\surrey\\\\sentiment_proj\\\\datasets')"
   ]
  },
  {
   "cell_type": "markdown",
   "metadata": {},
   "source": [
    "# Cleaning the Arabic side"
   ]
  },
  {
   "cell_type": "code",
   "execution_count": 2,
   "metadata": {},
   "outputs": [],
   "source": [
    "import pandas as pd\n",
    "data = pd.read_excel('gr150_with_correct_Trans.xlsx')  "
   ]
  },
  {
   "cell_type": "code",
   "execution_count": 3,
   "metadata": {},
   "outputs": [
    {
     "data": {
      "text/html": [
       "<div>\n",
       "<style scoped>\n",
       "    .dataframe tbody tr th:only-of-type {\n",
       "        vertical-align: middle;\n",
       "    }\n",
       "\n",
       "    .dataframe tbody tr th {\n",
       "        vertical-align: top;\n",
       "    }\n",
       "\n",
       "    .dataframe thead th {\n",
       "        text-align: right;\n",
       "    }\n",
       "</style>\n",
       "<table border=\"1\" class=\"dataframe\">\n",
       "  <thead>\n",
       "    <tr style=\"text-align: right;\">\n",
       "      <th></th>\n",
       "      <th>rating</th>\n",
       "      <th>ar</th>\n",
       "      <th>correct</th>\n",
       "    </tr>\n",
       "  </thead>\n",
       "  <tbody>\n",
       "    <tr>\n",
       "      <th>0</th>\n",
       "      <td>4</td>\n",
       "      <td>من أمتع ما قرأت من روايات بلا شك. وحول الشك ت...</td>\n",
       "      <td>Undoubtedly one of the most interesting novels...</td>\n",
       "    </tr>\n",
       "    <tr>\n",
       "      <th>1</th>\n",
       "      <td>4</td>\n",
       "      <td>هذا هو الأدب . هذه هي الرواية !</td>\n",
       "      <td>This is literature. This is the novel!</td>\n",
       "    </tr>\n",
       "    <tr>\n",
       "      <th>2</th>\n",
       "      <td>5</td>\n",
       "      <td>عزازيل لكل منا عزازيل يحاوره يساوره هو شماعة ...</td>\n",
       "      <td>Azazel is all of us, each one of us has his ow...</td>\n",
       "    </tr>\n",
       "    <tr>\n",
       "      <th>3</th>\n",
       "      <td>2</td>\n",
       "      <td>انا كان عندى شغف قوى جدا لاقرأه وبعد ان تعمقت...</td>\n",
       "      <td>I had a very strong passion to read and after ...</td>\n",
       "    </tr>\n",
       "    <tr>\n",
       "      <th>4</th>\n",
       "      <td>4</td>\n",
       "      <td>- هذا الكتاب هو منجز روائي هائل بالمعلومات و ...</td>\n",
       "      <td>This book is a great achievment which is full ...</td>\n",
       "    </tr>\n",
       "  </tbody>\n",
       "</table>\n",
       "</div>"
      ],
      "text/plain": [
       "   rating                                                 ar  \\\n",
       "0       4   من أمتع ما قرأت من روايات بلا شك. وحول الشك ت...   \n",
       "1       4                    هذا هو الأدب . هذه هي الرواية !   \n",
       "2       5   عزازيل لكل منا عزازيل يحاوره يساوره هو شماعة ...   \n",
       "3       2   انا كان عندى شغف قوى جدا لاقرأه وبعد ان تعمقت...   \n",
       "4       4   - هذا الكتاب هو منجز روائي هائل بالمعلومات و ...   \n",
       "\n",
       "                                             correct  \n",
       "0  Undoubtedly one of the most interesting novels...  \n",
       "1             This is literature. This is the novel!  \n",
       "2  Azazel is all of us, each one of us has his ow...  \n",
       "3  I had a very strong passion to read and after ...  \n",
       "4  This book is a great achievment which is full ...  "
      ]
     },
     "execution_count": 3,
     "metadata": {},
     "output_type": "execute_result"
    }
   ],
   "source": [
    "data.head()"
   ]
  },
  {
   "cell_type": "code",
   "execution_count": 7,
   "metadata": {},
   "outputs": [],
   "source": [
    "text = '''  راااااااااائع  اروووووووووووووووووووووووووووووووووووووع رهيبه رهيبة أستاذ لا يَأْتِيهِ الْبَاطِلُ مِنْ بَيْنِ يَدَيْهِ وَلا مِنْ خَلْفِهِ تَنزِيلٌ مِنْ حَكِيمٍ حَمِيدٍ  `÷×؛<>_()*&^%][ـ،/:\"؟.,'{ '''"
   ]
  },
  {
   "cell_type": "code",
   "execution_count": 8,
   "metadata": {},
   "outputs": [
    {
     "data": {
      "text/plain": [
       "' رائع اروع رهيبه رهيبة أستاذ لا يَأْتِيهِ الْبَاطِلُ مِنْ بَيْنِ يَدَيْهِ وَلا مِنْ خَلْفِهِ تَنزِيلٌ مِنْ حَكِيمٍ حَمِيدٍ `÷×؛<>_()*&^%][ـ،/:\"؟.,\\'{ '"
      ]
     },
     "execution_count": 8,
     "metadata": {},
     "output_type": "execute_result"
    }
   ],
   "source": [
    "remove_repeating_char(text)"
   ]
  },
  {
   "cell_type": "code",
   "execution_count": 9,
   "metadata": {},
   "outputs": [
    {
     "data": {
      "text/plain": [
       "'  راااااااااائع  اروووووووووووووووووووووووووووووووووووووع رهيبه رهيبة أستاذ لا يَأْتِيهِ الْبَاطِلُ مِنْ بَيْنِ يَدَيْهِ وَلا مِنْ خَلْفِهِ تَنزِيلٌ مِنْ حَكِيمٍ حَمِيدٍ  `÷×؛<>_()*&^%][ـ،/:\"؟.,\\'{ '"
      ]
     },
     "execution_count": 9,
     "metadata": {},
     "output_type": "execute_result"
    }
   ],
   "source": [
    "text"
   ]
  },
  {
   "cell_type": "code",
   "execution_count": 25,
   "metadata": {},
   "outputs": [
    {
     "data": {
      "text/plain": [
       "'استاذ'"
      ]
     },
     "execution_count": 25,
     "metadata": {},
     "output_type": "execute_result"
    }
   ],
   "source": [
    "normalize_arabic('آستاذ')"
   ]
  },
  {
   "cell_type": "code",
   "execution_count": 10,
   "metadata": {},
   "outputs": [
    {
     "data": {
      "text/plain": [
       "' رائع اروع رهيبه رهيبه استاذ لا ياتيه الباطل من بين يديه ولا من خلفه تنزيل من حكيم حميد '"
      ]
     },
     "execution_count": 10,
     "metadata": {},
     "output_type": "execute_result"
    }
   ],
   "source": [
    "clean(text)"
   ]
  },
  {
   "cell_type": "code",
   "execution_count": 20,
   "metadata": {},
   "outputs": [
    {
     "data": {
      "text/plain": [
       "'قصص'"
      ]
     },
     "execution_count": 20,
     "metadata": {},
     "output_type": "execute_result"
    }
   ],
   "source": [
    "re.sub(r'(.)\\1{2,}', r'\\1', 'قصص')"
   ]
  },
  {
   "cell_type": "code",
   "execution_count": 12,
   "metadata": {},
   "outputs": [
    {
     "data": {
      "text/plain": [
       "' رائع اروع رهيبه رهيبه استاذ لا ياتيه الباطل من بين يديه ولا من خلفه تنزيل من حكيم حميد '"
      ]
     },
     "execution_count": 12,
     "metadata": {},
     "output_type": "execute_result"
    }
   ],
   "source": [
    "clean(text)"
   ]
  },
  {
   "cell_type": "code",
   "execution_count": 13,
   "metadata": {},
   "outputs": [],
   "source": [
    "t2 ='''\"لا يَأْتِيهِ الْبَاطِلُ مِنْ بَيْنِ يَدَيْهِ وَلا مِنْ خَلْفِهِ تَنزِيلٌ مِنْ حَكِيمٍ حَمِيدٍ \" '''"
   ]
  },
  {
   "cell_type": "code",
   "execution_count": 14,
   "metadata": {},
   "outputs": [
    {
     "data": {
      "text/plain": [
       "'لا يَأْتِيهِ الْبَاطِلُ مِنْ بَيْنِ يَدَيْهِ وَلا مِنْ خَلْفِهِ تَنزِيلٌ مِنْ حَكِيمٍ حَمِيدٍ  '"
      ]
     },
     "execution_count": 14,
     "metadata": {},
     "output_type": "execute_result"
    }
   ],
   "source": [
    "remove_punctuations(t2)"
   ]
  },
  {
   "cell_type": "code",
   "execution_count": 28,
   "metadata": {},
   "outputs": [],
   "source": [
    "data['ar']= data['ar'].astype(str).apply(clean)"
   ]
  },
  {
   "cell_type": "code",
   "execution_count": 53,
   "metadata": {},
   "outputs": [],
   "source": [
    "for row in data['ar']:\n",
    "    if 'عاجبني قووووووووي' in row:\n",
    "        print('1')"
   ]
  },
  {
   "cell_type": "code",
   "execution_count": 29,
   "metadata": {},
   "outputs": [
    {
     "data": {
      "text/plain": [
       "0         من امتع ما قرات من روايات بلا شك وحول الشك تد...\n",
       "1                            هذا هو الادب  هذه هي الروايه \n",
       "2         عزازيل لكل منا عزازيل يحاوره يساوره هو شماعه ...\n",
       "3         انا كان عندي شغف قوي جدا لاقراه وبعد ان تعمقت...\n",
       "4          هذا الكتاب هو منجز روائي هائل بالمعلومات و ق...\n",
       "5         الرق التاسع والعشرون اصابني بشده  القضيه ان ه...\n",
       "6         اول روايه عربيه قراتها اروع ما قرات احببت من ...\n",
       "7                                                     تحفه\n",
       "8         اول روايه عربيه قراتها اروع ما قرات احببت من ...\n",
       "9         بدات هذا الكتاب حتي منتصفه لم انهييه ليس لدي ...\n",
       "10        لم تحلو لي احداثها الا في المنتصف  اما النهاي...\n",
       "11        الروايه عندما تكتب من باحث متمكن لابد وان تحت...\n",
       "12               اجمل الروايات اللتي قراتها باللغه العربيه\n",
       "13        ابهرني المءلف بذكائه في تحويل قضيه مثيره للجد...\n",
       "14        روايه جميله تضيف لك الكثير من المعلومات عن نظ...\n",
       "15        تعرفت اكثر علي الديانه المسيحيه  وعشت فيلم كن...\n",
       "16        من احلي الروايات التي قراتها  روايه خياليه با...\n",
       "17        هنالك شيء مفقود في هذه الروايه الحلوه لست متا...\n",
       "18        مرحبا كتاب لا اعتبر من لم يقراه قد قرا كتاب م...\n",
       "19        حقيقي روايه خايبه جدا مبالغه وتطويل زياده اسق...\n",
       "20        كتاب اكثر من رائع  لغه سلسه جميله مخاطبه الرا...\n",
       "21        احببت بدايه الكتاب والسرد التاريخي الذي قام ب...\n",
       "22        احداث مءتمر لمءرخين يناقش الروايه التاريخيه م...\n",
       "23        في عزازيل يتداخل الماضي بالحاضر  تتداخل السيا...\n",
       "24        من اجمل ما قرات من روايات علي الاطلاق لولا ال...\n",
       "25        رائعه هو اقل ما يقال و اكثر متا احببت فيها هو...\n",
       "26        احترت كتير نجمتين ولا تلاته انا مستفدتش غير ب...\n",
       "27        رائع جدا جدا  اسلوب الكتاب رائع  وصفه للمشاعر...\n",
       "28        عجبني في القصه انها بترجعك لزمن قديم وتعيشك ا...\n",
       "29        كتاب جيد جدا  ممل قليلا في البدايه ولكن مع ال...\n",
       "                               ...                        \n",
       "29122                                     كتاب رائع وجميل \n",
       "29123               اعجبتني ردوده ع المشكلات واضحكتني ايضا\n",
       "29124                     قصص مسليهو متنوعه من هذه الحياه \n",
       "29125     رسائل قراء منتقاه ورد غير عادي من رجل استثنائ...\n",
       "29126     كتاب تمهيدي جميل وبلغه مبسطه  يعاب عليه عدم و...\n",
       "29127     اغلب ما جاء في الكتاب مما كنت اجهله ان العتبه...\n",
       "29128     كتاب خفيف الظل وذات اسلوب رائع يعبر عن جيل با...\n",
       "29129                                 اسلوب حلو وقصه عاديه\n",
       "29130     الاسلوب رائع والحكايات لا باس بها  كنت اتمني ...\n",
       "29131     لقد مرت سنوات علي ذلك وكلما حاولت عوده الي ال...\n",
       "29132     من اروع ما قرات تسافر بك بعيدا في الاحداث الح...\n",
       "29133                                      كتاب خفيف ومسلي\n",
       "29134     روايه عاديه جدا  لا باس بها لكنها لا تشبع نهم...\n",
       "29135     لقد قرات هذه الروايه في السنه الماضيه انها فع...\n",
       "29136     عن خادمه تسافر من الفلبين الي الكويت لا شيء ج...\n",
       "29137     روايه بسيطه تكشف معاناه الخدم قبيل وصولهم للم...\n",
       "29138     قراتها من زمان اتوقع احتاج اقراها مره ثانيه ع...\n",
       "29139     تصف فيها حال الكثير الكثير من الخادمات في الخليج\n",
       "29140     الروايه تحكي قصه خادمه و لكن باسلوب لطيف و خف...\n",
       "29141                  جميله بالرغم من بساطه اسلوب الكاتب \n",
       "29142                                  جيده تستحق القراءه \n",
       "29143     تعليق علي صفحه 179 نقله غير متوقعه وغير جميله...\n",
       "29144     المسرحيه  قصيده افكار جنونيه في دفتر هاملت لن...\n",
       "29145     قراتها في الثانويه لان شيكسبير كان اسم لامع ا...\n",
       "29146     قصه جيده خصوصا لو وضعتها في سياقها الزمني غضض...\n",
       "29147     روايه اكثر من رائعه  لا اصدق انني اغفلت روائع...\n",
       "29148     ماساه ماساه ماساه ماساه بما تحمله الكلمه من م...\n",
       "29149              فلسفه بودن يا نبودنمان هم هنوز نيستعجبا\n",
       "29150                حينما يدعي هملت الجنون يكون اكثر حكمه\n",
       "29151            اجمل مسرحيه الفت في تاريخ الادب الانجليزي\n",
       "Name: ar, Length: 29152, dtype: object"
      ]
     },
     "execution_count": 29,
     "metadata": {},
     "output_type": "execute_result"
    }
   ],
   "source": [
    "data['ar']"
   ]
  },
  {
   "cell_type": "code",
   "execution_count": 30,
   "metadata": {},
   "outputs": [
    {
     "data": {
      "text/plain": [
       "(29152, 3)"
      ]
     },
     "execution_count": 30,
     "metadata": {},
     "output_type": "execute_result"
    }
   ],
   "source": [
    "data.shape"
   ]
  },
  {
   "cell_type": "code",
   "execution_count": 31,
   "metadata": {},
   "outputs": [
    {
     "data": {
      "text/plain": [
       "rating      0\n",
       "ar          0\n",
       "correct    13\n",
       "dtype: int64"
      ]
     },
     "execution_count": 31,
     "metadata": {},
     "output_type": "execute_result"
    }
   ],
   "source": [
    "data.isna().sum()"
   ]
  },
  {
   "cell_type": "code",
   "execution_count": 32,
   "metadata": {},
   "outputs": [],
   "source": [
    "data = data.dropna()"
   ]
  },
  {
   "cell_type": "code",
   "execution_count": 33,
   "metadata": {},
   "outputs": [
    {
     "data": {
      "text/plain": [
       "rating     0\n",
       "ar         0\n",
       "correct    0\n",
       "dtype: int64"
      ]
     },
     "execution_count": 33,
     "metadata": {},
     "output_type": "execute_result"
    }
   ],
   "source": [
    "data.isna().sum()"
   ]
  },
  {
   "cell_type": "code",
   "execution_count": 41,
   "metadata": {},
   "outputs": [],
   "source": [
    "#data.to_csv('clean_gr150.csv',  encoding='utf-8', index=None) needs to be imported by data"
   ]
  },
  {
   "cell_type": "code",
   "execution_count": 34,
   "metadata": {},
   "outputs": [],
   "source": [
    "data.to_csv('clean_gr150.csv',  encoding='utf-8-sig', index=None)"
   ]
  },
  {
   "cell_type": "code",
   "execution_count": 45,
   "metadata": {},
   "outputs": [
    {
     "data": {
      "text/plain": [
       "'قوي'"
      ]
     },
     "execution_count": 45,
     "metadata": {},
     "output_type": "execute_result"
    }
   ],
   "source": [
    "clean('قووووووووي')"
   ]
  },
  {
   "cell_type": "markdown",
   "metadata": {},
   "source": [
    "# Cleaning the English side"
   ]
  },
  {
   "cell_type": "code",
   "execution_count": 60,
   "metadata": {},
   "outputs": [],
   "source": [
    "eng_side = pd.read_csv('clean_gr150.csv', encoding='utf8')"
   ]
  },
  {
   "cell_type": "code",
   "execution_count": 61,
   "metadata": {},
   "outputs": [
    {
     "data": {
      "text/plain": [
       "(29139, 3)"
      ]
     },
     "execution_count": 61,
     "metadata": {},
     "output_type": "execute_result"
    }
   ],
   "source": [
    "eng_side.shape"
   ]
  },
  {
   "cell_type": "code",
   "execution_count": 62,
   "metadata": {},
   "outputs": [
    {
     "data": {
      "text/html": [
       "<div>\n",
       "<style scoped>\n",
       "    .dataframe tbody tr th:only-of-type {\n",
       "        vertical-align: middle;\n",
       "    }\n",
       "\n",
       "    .dataframe tbody tr th {\n",
       "        vertical-align: top;\n",
       "    }\n",
       "\n",
       "    .dataframe thead th {\n",
       "        text-align: right;\n",
       "    }\n",
       "</style>\n",
       "<table border=\"1\" class=\"dataframe\">\n",
       "  <thead>\n",
       "    <tr style=\"text-align: right;\">\n",
       "      <th></th>\n",
       "      <th>rating</th>\n",
       "      <th>ar</th>\n",
       "      <th>correct</th>\n",
       "    </tr>\n",
       "  </thead>\n",
       "  <tbody>\n",
       "    <tr>\n",
       "      <th>0</th>\n",
       "      <td>4</td>\n",
       "      <td>من امتع ما قرات من روايات بلا شك وحول الشك تد...</td>\n",
       "      <td>Undoubtedly one of the most interesting novels...</td>\n",
       "    </tr>\n",
       "    <tr>\n",
       "      <th>1</th>\n",
       "      <td>4</td>\n",
       "      <td>هذا هو الادب هذه هي الروايه</td>\n",
       "      <td>This is literature. This is the novel!</td>\n",
       "    </tr>\n",
       "    <tr>\n",
       "      <th>2</th>\n",
       "      <td>5</td>\n",
       "      <td>عزازيل لكل منا عزازيل يحاوره يساوره هو شماعه ...</td>\n",
       "      <td>Azazel is all of us, each one of us has his ow...</td>\n",
       "    </tr>\n",
       "    <tr>\n",
       "      <th>3</th>\n",
       "      <td>2</td>\n",
       "      <td>انا كان عندي شغف قوي جدا لاقراه وبعد ان تعمقت...</td>\n",
       "      <td>I had a very strong passion to read and after ...</td>\n",
       "    </tr>\n",
       "    <tr>\n",
       "      <th>4</th>\n",
       "      <td>4</td>\n",
       "      <td>هذا الكتاب هو منجز روائي هائل بالمعلومات و قد...</td>\n",
       "      <td>This book is a great achievment which is full ...</td>\n",
       "    </tr>\n",
       "  </tbody>\n",
       "</table>\n",
       "</div>"
      ],
      "text/plain": [
       "   rating                                                 ar  \\\n",
       "0       4   من امتع ما قرات من روايات بلا شك وحول الشك تد...   \n",
       "1       4                       هذا هو الادب هذه هي الروايه    \n",
       "2       5   عزازيل لكل منا عزازيل يحاوره يساوره هو شماعه ...   \n",
       "3       2   انا كان عندي شغف قوي جدا لاقراه وبعد ان تعمقت...   \n",
       "4       4   هذا الكتاب هو منجز روائي هائل بالمعلومات و قد...   \n",
       "\n",
       "                                             correct  \n",
       "0  Undoubtedly one of the most interesting novels...  \n",
       "1             This is literature. This is the novel!  \n",
       "2  Azazel is all of us, each one of us has his ow...  \n",
       "3  I had a very strong passion to read and after ...  \n",
       "4  This book is a great achievment which is full ...  "
      ]
     },
     "execution_count": 62,
     "metadata": {},
     "output_type": "execute_result"
    }
   ],
   "source": [
    "eng_side.head()"
   ]
  },
  {
   "cell_type": "code",
   "execution_count": 14,
   "metadata": {},
   "outputs": [
    {
     "data": {
      "text/plain": [
       "rating     0\n",
       "ar         0\n",
       "correct    0\n",
       "dtype: int64"
      ]
     },
     "execution_count": 14,
     "metadata": {},
     "output_type": "execute_result"
    }
   ],
   "source": [
    "eng_side.isna().sum()"
   ]
  },
  {
   "cell_type": "code",
   "execution_count": 15,
   "metadata": {},
   "outputs": [
    {
     "data": {
      "text/html": [
       "<div>\n",
       "<style scoped>\n",
       "    .dataframe tbody tr th:only-of-type {\n",
       "        vertical-align: middle;\n",
       "    }\n",
       "\n",
       "    .dataframe tbody tr th {\n",
       "        vertical-align: top;\n",
       "    }\n",
       "\n",
       "    .dataframe thead th {\n",
       "        text-align: right;\n",
       "    }\n",
       "</style>\n",
       "<table border=\"1\" class=\"dataframe\">\n",
       "  <thead>\n",
       "    <tr style=\"text-align: right;\">\n",
       "      <th></th>\n",
       "      <th>rating</th>\n",
       "      <th>ar</th>\n",
       "      <th>correct</th>\n",
       "    </tr>\n",
       "  </thead>\n",
       "  <tbody>\n",
       "  </tbody>\n",
       "</table>\n",
       "</div>"
      ],
      "text/plain": [
       "Empty DataFrame\n",
       "Columns: [rating, ar, correct]\n",
       "Index: []"
      ]
     },
     "execution_count": 15,
     "metadata": {},
     "output_type": "execute_result"
    }
   ],
   "source": [
    "eng_side[eng_side.isnull().any(axis=1)] # checking the rows that has NAN"
   ]
  },
  {
   "cell_type": "code",
   "execution_count": 39,
   "metadata": {},
   "outputs": [],
   "source": [
    "eng_side['correct']= eng_side['correct'].astype(str).apply(clean2)"
   ]
  },
  {
   "cell_type": "code",
   "execution_count": 18,
   "metadata": {},
   "outputs": [],
   "source": [
    "s = \"string. With. Punctuation?#):\""
   ]
  },
  {
   "cell_type": "code",
   "execution_count": 19,
   "metadata": {},
   "outputs": [
    {
     "data": {
      "text/plain": [
       "'string With Punctuation'"
      ]
     },
     "execution_count": 19,
     "metadata": {},
     "output_type": "execute_result"
    }
   ],
   "source": [
    "s.translate(str.maketrans('', '', string.punctuation))"
   ]
  },
  {
   "cell_type": "code",
   "execution_count": 57,
   "metadata": {},
   "outputs": [],
   "source": [
    "def remove_punctuations(text):\n",
    "    translator = str.maketrans('', '', string.punctuation)\n",
    "    return text.translate(translator).lower()\n",
    "# def remove_repeating_char(text):\n",
    "#     return re.sub(r'(.)\\1', r'\\1', text)\n",
    "\n",
    "def remove_repeating_char(text):\n",
    "    return re.sub(\"((.)\\\\2{2})\\\\2+\",\"$1\",text)\n",
    "def clean2(text):\n",
    "    return remove_punctuations(remove_repeating_char(text))\n",
    " \n"
   ]
  },
  {
   "cell_type": "code",
   "execution_count": 58,
   "metadata": {},
   "outputs": [
    {
     "data": {
      "text/plain": [
       "'string with cool puunctu1tion'"
      ]
     },
     "execution_count": 58,
     "metadata": {},
     "output_type": "execute_result"
    }
   ],
   "source": [
    "clean2(\"string. With. cool Puunctuaaaaaaaaaaation?#):\")"
   ]
  },
  {
   "cell_type": "code",
   "execution_count": 40,
   "metadata": {},
   "outputs": [],
   "source": [
    "eng_side.to_csv('clean_gr1502.csv',  encoding='utf-8-sig', index=None)"
   ]
  },
  {
   "cell_type": "code",
   "execution_count": 52,
   "metadata": {},
   "outputs": [],
   "source": [
    "def remove_repeating_char(text):\n",
    "    return re.sub(\"((.)\\\\2{2})\\\\2+\",\"$1\",text)"
   ]
  },
  {
   "cell_type": "code",
   "execution_count": 59,
   "metadata": {},
   "outputs": [
    {
     "data": {
      "text/plain": [
       "'string with cool puunctu1tion'"
      ]
     },
     "execution_count": 59,
     "metadata": {},
     "output_type": "execute_result"
    }
   ],
   "source": [
    "clean(\"string. With. cool Puunctuaaaaaaaaaaation?#):\")"
   ]
  },
  {
   "cell_type": "code",
   "execution_count": 63,
   "metadata": {},
   "outputs": [],
   "source": [
    "eng_side['correct']= eng_side['correct'].astype(str).apply(clean2)"
   ]
  },
  {
   "cell_type": "code",
   "execution_count": 65,
   "metadata": {},
   "outputs": [],
   "source": [
    "eng_side.to_csv('clean_gr1502.csv',  encoding='utf-8-sig', index=None)"
   ]
  },
  {
   "cell_type": "code",
   "execution_count": null,
   "metadata": {},
   "outputs": [],
   "source": []
  }
 ],
 "metadata": {
  "kernelspec": {
   "display_name": "Python [conda env:old_env]",
   "language": "python",
   "name": "conda-env-old_env-py"
  },
  "language_info": {
   "codemirror_mode": {
    "name": "ipython",
    "version": 3
   },
   "file_extension": ".py",
   "mimetype": "text/x-python",
   "name": "python",
   "nbconvert_exporter": "python",
   "pygments_lexer": "ipython3",
   "version": "3.6.5"
  }
 },
 "nbformat": 4,
 "nbformat_minor": 2
}
